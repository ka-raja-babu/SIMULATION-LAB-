{
 "cells": [
  {
   "cell_type": "code",
   "execution_count": null,
   "id": "78cabe88",
   "metadata": {},
   "outputs": [],
   "source": [
    "# MA5755 ASSIGNMENT 2\n",
    "# NAME- KRISHAN AGYAKARI RAJA BABU\n",
    "# ROLL NO.- EE22S042"
   ]
  },
  {
   "cell_type": "markdown",
   "id": "d89be521",
   "metadata": {},
   "source": [
    "# (A) PREDICT STOCK PRICES USING LINEAR REGRESSION (PART 1)"
   ]
  },
  {
   "cell_type": "code",
   "execution_count": 115,
   "id": "e34e64e5",
   "metadata": {},
   "outputs": [],
   "source": [
    "# 1. Given SBI stock listed in NSE data for last 5 years.\n",
    "\n",
    "# 2. Take a sample data from the data given for last 5 years.\n",
    "\n",
    "# 3.Model a Simple Linear Regression for stock price as a function of\n",
    "# each attribute.\n",
    "\n",
    "# 4. Find the best fit attribute for the taken sample.\n",
    "\n",
    "# 5.Model a Simple Linear Regression for stock price of SBI as a function\n",
    "# of sensex stock price data for last 5 years.\n",
    "\n",
    "# 6.Make a report on statistical inferences from data and results from\n",
    "# the above models.\n"
   ]
  },
  {
   "cell_type": "code",
   "execution_count": 2,
   "id": "875053a4",
   "metadata": {},
   "outputs": [],
   "source": [
    "# Import Necessary Libraries\n",
    "\n",
    "import matplotlib.pyplot as plt\n",
    "import pandas as pd\n",
    "from sklearn import metrics\n",
    "from sklearn.linear_model import LinearRegression\n",
    "import numpy as np\n",
    "from sklearn.model_selection import train_test_split\n",
    "import math\n",
    "from sklearn.metrics import confusion_matrix,accuracy_score\n",
    "import math"
   ]
  },
  {
   "cell_type": "code",
   "execution_count": 3,
   "id": "5b29b64a",
   "metadata": {},
   "outputs": [],
   "source": [
    "#Reading given SBI stock data of last 5 years\n",
    "\n",
    "sbi=pd.read_csv(\"SBIN.NS.txt\")"
   ]
  },
  {
   "cell_type": "code",
   "execution_count": 4,
   "id": "989fc227",
   "metadata": {},
   "outputs": [
    {
     "data": {
      "text/html": [
       "<div>\n",
       "<style scoped>\n",
       "    .dataframe tbody tr th:only-of-type {\n",
       "        vertical-align: middle;\n",
       "    }\n",
       "\n",
       "    .dataframe tbody tr th {\n",
       "        vertical-align: top;\n",
       "    }\n",
       "\n",
       "    .dataframe thead th {\n",
       "        text-align: right;\n",
       "    }\n",
       "</style>\n",
       "<table border=\"1\" class=\"dataframe\">\n",
       "  <thead>\n",
       "    <tr style=\"text-align: right;\">\n",
       "      <th></th>\n",
       "      <th>Date</th>\n",
       "      <th>Open</th>\n",
       "      <th>High</th>\n",
       "      <th>Low</th>\n",
       "      <th>Close</th>\n",
       "      <th>Adj Close</th>\n",
       "      <th>Volume</th>\n",
       "    </tr>\n",
       "  </thead>\n",
       "  <tbody>\n",
       "    <tr>\n",
       "      <th>0</th>\n",
       "      <td>2018-01-23</td>\n",
       "      <td>306.399994</td>\n",
       "      <td>320.549988</td>\n",
       "      <td>306.350006</td>\n",
       "      <td>318.100006</td>\n",
       "      <td>310.346680</td>\n",
       "      <td>35252217</td>\n",
       "    </tr>\n",
       "    <tr>\n",
       "      <th>1</th>\n",
       "      <td>2018-01-24</td>\n",
       "      <td>317.700012</td>\n",
       "      <td>331.600006</td>\n",
       "      <td>316.200012</td>\n",
       "      <td>329.899994</td>\n",
       "      <td>321.859100</td>\n",
       "      <td>38070520</td>\n",
       "    </tr>\n",
       "    <tr>\n",
       "      <th>2</th>\n",
       "      <td>2018-01-25</td>\n",
       "      <td>332.750000</td>\n",
       "      <td>332.750000</td>\n",
       "      <td>311.850006</td>\n",
       "      <td>313.149994</td>\n",
       "      <td>305.517334</td>\n",
       "      <td>42466150</td>\n",
       "    </tr>\n",
       "    <tr>\n",
       "      <th>3</th>\n",
       "      <td>2018-01-29</td>\n",
       "      <td>313.149994</td>\n",
       "      <td>316.899994</td>\n",
       "      <td>311.000000</td>\n",
       "      <td>312.100006</td>\n",
       "      <td>304.492920</td>\n",
       "      <td>23600898</td>\n",
       "    </tr>\n",
       "    <tr>\n",
       "      <th>4</th>\n",
       "      <td>2018-01-30</td>\n",
       "      <td>312.049988</td>\n",
       "      <td>318.850006</td>\n",
       "      <td>311.000000</td>\n",
       "      <td>313.549988</td>\n",
       "      <td>305.907562</td>\n",
       "      <td>25810404</td>\n",
       "    </tr>\n",
       "  </tbody>\n",
       "</table>\n",
       "</div>"
      ],
      "text/plain": [
       "         Date        Open        High         Low       Close   Adj Close  \\\n",
       "0  2018-01-23  306.399994  320.549988  306.350006  318.100006  310.346680   \n",
       "1  2018-01-24  317.700012  331.600006  316.200012  329.899994  321.859100   \n",
       "2  2018-01-25  332.750000  332.750000  311.850006  313.149994  305.517334   \n",
       "3  2018-01-29  313.149994  316.899994  311.000000  312.100006  304.492920   \n",
       "4  2018-01-30  312.049988  318.850006  311.000000  313.549988  305.907562   \n",
       "\n",
       "     Volume  \n",
       "0  35252217  \n",
       "1  38070520  \n",
       "2  42466150  \n",
       "3  23600898  \n",
       "4  25810404  "
      ]
     },
     "execution_count": 4,
     "metadata": {},
     "output_type": "execute_result"
    }
   ],
   "source": [
    "#Data visualisation\n",
    "\n",
    "sbi.head()"
   ]
  },
  {
   "cell_type": "code",
   "execution_count": 9,
   "id": "8ee2cc23",
   "metadata": {},
   "outputs": [
    {
     "name": "stdout",
     "output_type": "stream",
     "text": [
      "No. of rows are : 1235\n",
      "No. of columns are: 7\n"
     ]
    }
   ],
   "source": [
    "#Checking number of rows and columns in given data\n",
    "\n",
    "rows=sbi.shape[0]\n",
    "col=sbi.shape[1]\n",
    "\n",
    "print(\"No. of rows are :\",rows)\n",
    "print(\"No. of columns are:\",col)"
   ]
  },
  {
   "cell_type": "code",
   "execution_count": 10,
   "id": "977786ba",
   "metadata": {},
   "outputs": [
    {
     "name": "stdout",
     "output_type": "stream",
     "text": [
      "<class 'pandas.core.frame.DataFrame'>\n",
      "RangeIndex: 1235 entries, 0 to 1234\n",
      "Data columns (total 7 columns):\n",
      " #   Column     Non-Null Count  Dtype  \n",
      "---  ------     --------------  -----  \n",
      " 0   Date       1235 non-null   object \n",
      " 1   Open       1235 non-null   float64\n",
      " 2   High       1235 non-null   float64\n",
      " 3   Low        1235 non-null   float64\n",
      " 4   Close      1235 non-null   float64\n",
      " 5   Adj Close  1235 non-null   float64\n",
      " 6   Volume     1235 non-null   int64  \n",
      "dtypes: float64(5), int64(1), object(1)\n",
      "memory usage: 67.7+ KB\n"
     ]
    }
   ],
   "source": [
    "#Getting information about given data\n",
    "sbi.info()"
   ]
  },
  {
   "cell_type": "code",
   "execution_count": 11,
   "id": "94142969",
   "metadata": {},
   "outputs": [
    {
     "data": {
      "text/html": [
       "<div>\n",
       "<style scoped>\n",
       "    .dataframe tbody tr th:only-of-type {\n",
       "        vertical-align: middle;\n",
       "    }\n",
       "\n",
       "    .dataframe tbody tr th {\n",
       "        vertical-align: top;\n",
       "    }\n",
       "\n",
       "    .dataframe thead th {\n",
       "        text-align: right;\n",
       "    }\n",
       "</style>\n",
       "<table border=\"1\" class=\"dataframe\">\n",
       "  <thead>\n",
       "    <tr style=\"text-align: right;\">\n",
       "      <th></th>\n",
       "      <th>Open</th>\n",
       "      <th>High</th>\n",
       "      <th>Low</th>\n",
       "      <th>Close</th>\n",
       "      <th>Adj Close</th>\n",
       "      <th>Volume</th>\n",
       "    </tr>\n",
       "  </thead>\n",
       "  <tbody>\n",
       "    <tr>\n",
       "      <th>count</th>\n",
       "      <td>1235.000000</td>\n",
       "      <td>1235.000000</td>\n",
       "      <td>1235.000000</td>\n",
       "      <td>1235.000000</td>\n",
       "      <td>1235.000000</td>\n",
       "      <td>1.235000e+03</td>\n",
       "    </tr>\n",
       "    <tr>\n",
       "      <th>mean</th>\n",
       "      <td>352.850446</td>\n",
       "      <td>357.466478</td>\n",
       "      <td>347.792793</td>\n",
       "      <td>352.536559</td>\n",
       "      <td>346.566569</td>\n",
       "      <td>3.236091e+07</td>\n",
       "    </tr>\n",
       "    <tr>\n",
       "      <th>std</th>\n",
       "      <td>119.221948</td>\n",
       "      <td>119.978945</td>\n",
       "      <td>118.487661</td>\n",
       "      <td>119.277664</td>\n",
       "      <td>120.192497</td>\n",
       "      <td>2.546596e+07</td>\n",
       "    </tr>\n",
       "    <tr>\n",
       "      <th>min</th>\n",
       "      <td>151.949997</td>\n",
       "      <td>153.199997</td>\n",
       "      <td>149.449997</td>\n",
       "      <td>150.850006</td>\n",
       "      <td>147.173218</td>\n",
       "      <td>3.312160e+06</td>\n",
       "    </tr>\n",
       "    <tr>\n",
       "      <th>25%</th>\n",
       "      <td>267.700012</td>\n",
       "      <td>271.375000</td>\n",
       "      <td>262.774994</td>\n",
       "      <td>267.675003</td>\n",
       "      <td>261.150741</td>\n",
       "      <td>1.531607e+07</td>\n",
       "    </tr>\n",
       "    <tr>\n",
       "      <th>50%</th>\n",
       "      <td>316.049988</td>\n",
       "      <td>321.450012</td>\n",
       "      <td>311.850006</td>\n",
       "      <td>316.450012</td>\n",
       "      <td>308.736908</td>\n",
       "      <td>2.343183e+07</td>\n",
       "    </tr>\n",
       "    <tr>\n",
       "      <th>75%</th>\n",
       "      <td>455.000000</td>\n",
       "      <td>462.399994</td>\n",
       "      <td>448.800003</td>\n",
       "      <td>454.324997</td>\n",
       "      <td>450.051452</td>\n",
       "      <td>4.193135e+07</td>\n",
       "    </tr>\n",
       "    <tr>\n",
       "      <th>max</th>\n",
       "      <td>625.549988</td>\n",
       "      <td>629.549988</td>\n",
       "      <td>617.500000</td>\n",
       "      <td>625.500000</td>\n",
       "      <td>625.500000</td>\n",
       "      <td>2.149557e+08</td>\n",
       "    </tr>\n",
       "  </tbody>\n",
       "</table>\n",
       "</div>"
      ],
      "text/plain": [
       "              Open         High          Low        Close    Adj Close  \\\n",
       "count  1235.000000  1235.000000  1235.000000  1235.000000  1235.000000   \n",
       "mean    352.850446   357.466478   347.792793   352.536559   346.566569   \n",
       "std     119.221948   119.978945   118.487661   119.277664   120.192497   \n",
       "min     151.949997   153.199997   149.449997   150.850006   147.173218   \n",
       "25%     267.700012   271.375000   262.774994   267.675003   261.150741   \n",
       "50%     316.049988   321.450012   311.850006   316.450012   308.736908   \n",
       "75%     455.000000   462.399994   448.800003   454.324997   450.051452   \n",
       "max     625.549988   629.549988   617.500000   625.500000   625.500000   \n",
       "\n",
       "             Volume  \n",
       "count  1.235000e+03  \n",
       "mean   3.236091e+07  \n",
       "std    2.546596e+07  \n",
       "min    3.312160e+06  \n",
       "25%    1.531607e+07  \n",
       "50%    2.343183e+07  \n",
       "75%    4.193135e+07  \n",
       "max    2.149557e+08  "
      ]
     },
     "execution_count": 11,
     "metadata": {},
     "output_type": "execute_result"
    }
   ],
   "source": [
    "#Describing given data\n",
    "sbi.describe()"
   ]
  },
  {
   "cell_type": "code",
   "execution_count": 12,
   "id": "10fa484c",
   "metadata": {},
   "outputs": [
    {
     "data": {
      "text/plain": [
       "<AxesSubplot:>"
      ]
     },
     "execution_count": 12,
     "metadata": {},
     "output_type": "execute_result"
    },
    {
     "data": {
      "image/png": "[encoded data removed]",
      "text/plain": [
       "<Figure size 1600x600 with 1 Axes>"
      ]
     },
     "metadata": {},
     "output_type": "display_data"
    }
   ],
   "source": [
    "#Visualising open price\n",
    "sbi['Open'].plot(figsize=(16,6))"
   ]
  },
  {
   "cell_type": "code",
   "execution_count": 195,
   "id": "57dc67c5",
   "metadata": {},
   "outputs": [
    {
     "data": {
      "text/plain": [
       "<AxesSubplot:>"
      ]
     },
     "execution_count": 195,
     "metadata": {},
     "output_type": "execute_result"
    },
    {
     "data": {
      "image/png": "[encoded data removed]",
      "text/plain": [
       "<Figure size 1600x600 with 1 Axes>"
      ]
     },
     "metadata": {},
     "output_type": "display_data"
    }
   ],
   "source": [
    "#Visualising close price\n",
    "sbi['Close'].plot(figsize=(16,6))"
   ]
  },
  {
   "cell_type": "markdown",
   "id": "010e13a7",
   "metadata": {},
   "source": [
    "# Modelling Stock Price (Close Price) as a function of each attribute\n",
    "\n",
    "# (i) Modelling Stock Price as a function of \"open price\""
   ]
  },
  {
   "cell_type": "code",
   "execution_count": 113,
   "id": "4ba9a6c3",
   "metadata": {},
   "outputs": [
    {
     "data": {
      "text/html": [
       "<div>\n",
       "<style scoped>\n",
       "    .dataframe tbody tr th:only-of-type {\n",
       "        vertical-align: middle;\n",
       "    }\n",
       "\n",
       "    .dataframe tbody tr th {\n",
       "        vertical-align: top;\n",
       "    }\n",
       "\n",
       "    .dataframe thead th {\n",
       "        text-align: right;\n",
       "    }\n",
       "</style>\n",
       "<table border=\"1\" class=\"dataframe\">\n",
       "  <thead>\n",
       "    <tr style=\"text-align: right;\">\n",
       "      <th></th>\n",
       "      <th>Open</th>\n",
       "    </tr>\n",
       "  </thead>\n",
       "  <tbody>\n",
       "    <tr>\n",
       "      <th>0</th>\n",
       "      <td>306.399994</td>\n",
       "    </tr>\n",
       "    <tr>\n",
       "      <th>1</th>\n",
       "      <td>317.700012</td>\n",
       "    </tr>\n",
       "    <tr>\n",
       "      <th>2</th>\n",
       "      <td>332.750000</td>\n",
       "    </tr>\n",
       "    <tr>\n",
       "      <th>3</th>\n",
       "      <td>313.149994</td>\n",
       "    </tr>\n",
       "    <tr>\n",
       "      <th>4</th>\n",
       "      <td>312.049988</td>\n",
       "    </tr>\n",
       "    <tr>\n",
       "      <th>...</th>\n",
       "      <td>...</td>\n",
       "    </tr>\n",
       "    <tr>\n",
       "      <th>1230</th>\n",
       "      <td>603.000000</td>\n",
       "    </tr>\n",
       "    <tr>\n",
       "      <th>1231</th>\n",
       "      <td>603.000000</td>\n",
       "    </tr>\n",
       "    <tr>\n",
       "      <th>1232</th>\n",
       "      <td>595.900024</td>\n",
       "    </tr>\n",
       "    <tr>\n",
       "      <th>1233</th>\n",
       "      <td>591.000000</td>\n",
       "    </tr>\n",
       "    <tr>\n",
       "      <th>1234</th>\n",
       "      <td>593.799988</td>\n",
       "    </tr>\n",
       "  </tbody>\n",
       "</table>\n",
       "<p>1235 rows × 1 columns</p>\n",
       "</div>"
      ],
      "text/plain": [
       "            Open\n",
       "0     306.399994\n",
       "1     317.700012\n",
       "2     332.750000\n",
       "3     313.149994\n",
       "4     312.049988\n",
       "...          ...\n",
       "1230  603.000000\n",
       "1231  603.000000\n",
       "1232  595.900024\n",
       "1233  591.000000\n",
       "1234  593.799988\n",
       "\n",
       "[1235 rows x 1 columns]"
      ]
     },
     "execution_count": 113,
     "metadata": {},
     "output_type": "execute_result"
    }
   ],
   "source": [
    "x1=sbi[['Open']]\n",
    "y1=sbi['Close']\n",
    "x1"
   ]
  },
  {
   "cell_type": "code",
   "execution_count": 70,
   "id": "7cec20b9",
   "metadata": {},
   "outputs": [],
   "source": [
    "#Splitting given data into training & test data\n",
    "x1_train,x1_test,y1_train,y1_test=train_test_split(x1,y1,random_state=0)"
   ]
  },
  {
   "cell_type": "code",
   "execution_count": 72,
   "id": "7f6824b9",
   "metadata": {},
   "outputs": [
    {
     "name": "stdout",
     "output_type": "stream",
     "text": [
      "(926, 1)\n",
      "(309, 1)\n"
     ]
    }
   ],
   "source": [
    "#Checking size of training and test data\n",
    "print(x1_train.shape)\n",
    "print(x1_test.shape)"
   ]
  },
  {
   "cell_type": "code",
   "execution_count": 160,
   "id": "58ff27ee",
   "metadata": {},
   "outputs": [
    {
     "data": {
      "text/plain": [
       "LinearRegression()"
      ]
     },
     "execution_count": 160,
     "metadata": {},
     "output_type": "execute_result"
    }
   ],
   "source": [
    "# (i) Fitting Linear Regression Model for \"Close Price\" vs \"Open Price\"  \n",
    "model1=LinearRegression()\n",
    "model1.fit(x1_train,y1_train)"
   ]
  },
  {
   "cell_type": "code",
   "execution_count": 74,
   "id": "f9ce9d6c",
   "metadata": {},
   "outputs": [
    {
     "name": "stdout",
     "output_type": "stream",
     "text": [
      "[0.99877085]\n",
      "0.09173901708442145\n"
     ]
    }
   ],
   "source": [
    "#Printing model coefficient & intercept\n",
    "print(model1.coef_)\n",
    "print(model1.intercept_)"
   ]
  },
  {
   "cell_type": "code",
   "execution_count": 99,
   "id": "ff936070",
   "metadata": {},
   "outputs": [
    {
     "data": {
      "text/plain": [
       "(309,)"
      ]
     },
     "execution_count": 99,
     "metadata": {},
     "output_type": "execute_result"
    }
   ],
   "source": [
    "# (i) Predicting stock price with \"open price\" as attribute\n",
    "predict1=model1.predict(x1_test)\n",
    "predict1.shape"
   ]
  },
  {
   "cell_type": "code",
   "execution_count": 100,
   "id": "a491f152",
   "metadata": {},
   "outputs": [
    {
     "name": "stdout",
     "output_type": "stream",
     "text": [
      "            Open\n",
      "1083  448.950012\n",
      "18    269.000000\n",
      "1099  484.000000\n",
      "818   417.000000\n",
      "184   260.250000\n",
      "...          ...\n",
      "907   441.850006\n",
      "801   357.000000\n",
      "1089  449.000000\n",
      "435   318.950012\n",
      "833   427.000000\n",
      "\n",
      "[309 rows x 1 columns]\n"
     ]
    }
   ],
   "source": [
    "#Priniting Test Data\n",
    "print(x1_test)"
   ]
  },
  {
   "cell_type": "code",
   "execution_count": 101,
   "id": "7af46402",
   "metadata": {},
   "outputs": [
    {
     "name": "stdout",
     "output_type": "stream",
     "text": [
      "      Actual Price  Predicted Price\n",
      "1083    451.350006       448.489926\n",
      "18      269.649994       268.761099\n",
      "1099    486.750000       483.496833\n",
      "818     412.049988       416.579185\n",
      "184     255.699997       260.021854\n",
      "...            ...              ...\n",
      "907     460.000000       441.398647\n",
      "801     363.399994       356.652934\n",
      "1089    451.399994       448.539853\n",
      "435     317.549988       318.649715\n",
      "833     430.350006       426.566894\n",
      "\n",
      "[309 rows x 2 columns]\n"
     ]
    }
   ],
   "source": [
    "#Printing Actual & Predicted Stock Price with \"Open Price\" as attribute\n",
    "dfr1=pd.DataFrame({'Actual Price':y1_test,'Predicted Price':predict1})\n",
    "print(dfr1)"
   ]
  },
  {
   "cell_type": "code",
   "execution_count": 119,
   "id": "32b845a1",
   "metadata": {},
   "outputs": [
    {
     "data": {
      "text/html": [
       "<div>\n",
       "<style scoped>\n",
       "    .dataframe tbody tr th:only-of-type {\n",
       "        vertical-align: middle;\n",
       "    }\n",
       "\n",
       "    .dataframe tbody tr th {\n",
       "        vertical-align: top;\n",
       "    }\n",
       "\n",
       "    .dataframe thead th {\n",
       "        text-align: right;\n",
       "    }\n",
       "</style>\n",
       "<table border=\"1\" class=\"dataframe\">\n",
       "  <thead>\n",
       "    <tr style=\"text-align: right;\">\n",
       "      <th></th>\n",
       "      <th>Actual Price</th>\n",
       "      <th>Predicted Price</th>\n",
       "    </tr>\n",
       "  </thead>\n",
       "  <tbody>\n",
       "    <tr>\n",
       "      <th>1083</th>\n",
       "      <td>451.350006</td>\n",
       "      <td>448.489926</td>\n",
       "    </tr>\n",
       "    <tr>\n",
       "      <th>18</th>\n",
       "      <td>269.649994</td>\n",
       "      <td>268.761099</td>\n",
       "    </tr>\n",
       "    <tr>\n",
       "      <th>1099</th>\n",
       "      <td>486.750000</td>\n",
       "      <td>483.496833</td>\n",
       "    </tr>\n",
       "    <tr>\n",
       "      <th>818</th>\n",
       "      <td>412.049988</td>\n",
       "      <td>416.579185</td>\n",
       "    </tr>\n",
       "    <tr>\n",
       "      <th>184</th>\n",
       "      <td>255.699997</td>\n",
       "      <td>260.021854</td>\n",
       "    </tr>\n",
       "    <tr>\n",
       "      <th>608</th>\n",
       "      <td>190.750000</td>\n",
       "      <td>189.858201</td>\n",
       "    </tr>\n",
       "    <tr>\n",
       "      <th>1213</th>\n",
       "      <td>593.400024</td>\n",
       "      <td>596.357939</td>\n",
       "    </tr>\n",
       "    <tr>\n",
       "      <th>717</th>\n",
       "      <td>257.450012</td>\n",
       "      <td>254.578556</td>\n",
       "    </tr>\n",
       "    <tr>\n",
       "      <th>1137</th>\n",
       "      <td>536.700012</td>\n",
       "      <td>536.431688</td>\n",
       "    </tr>\n",
       "    <tr>\n",
       "      <th>1009</th>\n",
       "      <td>472.649994</td>\n",
       "      <td>479.501749</td>\n",
       "    </tr>\n",
       "    <tr>\n",
       "      <th>1068</th>\n",
       "      <td>454.100006</td>\n",
       "      <td>460.525103</td>\n",
       "    </tr>\n",
       "    <tr>\n",
       "      <th>621</th>\n",
       "      <td>190.949997</td>\n",
       "      <td>192.155377</td>\n",
       "    </tr>\n",
       "    <tr>\n",
       "      <th>761</th>\n",
       "      <td>406.250000</td>\n",
       "      <td>396.603768</td>\n",
       "    </tr>\n",
       "    <tr>\n",
       "      <th>1018</th>\n",
       "      <td>468.700012</td>\n",
       "      <td>469.414158</td>\n",
       "    </tr>\n",
       "    <tr>\n",
       "      <th>5</th>\n",
       "      <td>313.250000</td>\n",
       "      <td>312.707016</td>\n",
       "    </tr>\n",
       "    <tr>\n",
       "      <th>472</th>\n",
       "      <td>333.750000</td>\n",
       "      <td>334.080707</td>\n",
       "    </tr>\n",
       "    <tr>\n",
       "      <th>45</th>\n",
       "      <td>250.500000</td>\n",
       "      <td>249.335009</td>\n",
       "    </tr>\n",
       "    <tr>\n",
       "      <th>194</th>\n",
       "      <td>286.549988</td>\n",
       "      <td>288.636633</td>\n",
       "    </tr>\n",
       "    <tr>\n",
       "      <th>311</th>\n",
       "      <td>308.750000</td>\n",
       "      <td>306.514625</td>\n",
       "    </tr>\n",
       "    <tr>\n",
       "      <th>989</th>\n",
       "      <td>528.950012</td>\n",
       "      <td>503.022791</td>\n",
       "    </tr>\n",
       "    <tr>\n",
       "      <th>85</th>\n",
       "      <td>267.149994</td>\n",
       "      <td>260.271547</td>\n",
       "    </tr>\n",
       "    <tr>\n",
       "      <th>789</th>\n",
       "      <td>355.600006</td>\n",
       "      <td>360.648017</td>\n",
       "    </tr>\n",
       "    <tr>\n",
       "      <th>1138</th>\n",
       "      <td>538.900024</td>\n",
       "      <td>536.431688</td>\n",
       "    </tr>\n",
       "    <tr>\n",
       "      <th>853</th>\n",
       "      <td>427.450012</td>\n",
       "      <td>426.067508</td>\n",
       "    </tr>\n",
       "    <tr>\n",
       "      <th>302</th>\n",
       "      <td>310.799988</td>\n",
       "      <td>315.503563</td>\n",
       "    </tr>\n",
       "  </tbody>\n",
       "</table>\n",
       "</div>"
      ],
      "text/plain": [
       "      Actual Price  Predicted Price\n",
       "1083    451.350006       448.489926\n",
       "18      269.649994       268.761099\n",
       "1099    486.750000       483.496833\n",
       "818     412.049988       416.579185\n",
       "184     255.699997       260.021854\n",
       "608     190.750000       189.858201\n",
       "1213    593.400024       596.357939\n",
       "717     257.450012       254.578556\n",
       "1137    536.700012       536.431688\n",
       "1009    472.649994       479.501749\n",
       "1068    454.100006       460.525103\n",
       "621     190.949997       192.155377\n",
       "761     406.250000       396.603768\n",
       "1018    468.700012       469.414158\n",
       "5       313.250000       312.707016\n",
       "472     333.750000       334.080707\n",
       "45      250.500000       249.335009\n",
       "194     286.549988       288.636633\n",
       "311     308.750000       306.514625\n",
       "989     528.950012       503.022791\n",
       "85      267.149994       260.271547\n",
       "789     355.600006       360.648017\n",
       "1138    538.900024       536.431688\n",
       "853     427.450012       426.067508\n",
       "302     310.799988       315.503563"
      ]
     },
     "execution_count": 119,
     "metadata": {},
     "output_type": "execute_result"
    }
   ],
   "source": [
    "#Printing first 25 values of actual vs predicted stock price\n",
    "dfr1.head(25)"
   ]
  },
  {
   "cell_type": "code",
   "execution_count": 170,
   "id": "8fe03933",
   "metadata": {},
   "outputs": [
    {
     "name": "stdout",
     "output_type": "stream",
     "text": [
      "R2 score of model: 99.67021970027129 %\n",
      "Mean Absolute Error: 4.876195082568913\n",
      "Mean Squared Error: 47.33196335771621\n"
     ]
    }
   ],
   "source": [
    "#Finding r2 score,mean absolute error and mean squared error of developed model \n",
    "score1=model1.score(x1_test,y1_test)*100\n",
    "print('R2 score of model:',score1,'%')\n",
    "ae1=metrics.mean_absolute_error(y1_test,predict1)\n",
    "print('Mean Absolute Error:',ae1)\n",
    "se1=metrics.mean_squared_error(y1_test,predict1)\n",
    "print('Mean Squared Error:',se1)"
   ]
  },
  {
   "cell_type": "code",
   "execution_count": 104,
   "id": "36f9602d",
   "metadata": {},
   "outputs": [
    {
     "data": {
      "text/plain": [
       "[<matplotlib.lines.Line2D at 0x2338b4bd100>]"
      ]
     },
     "execution_count": 104,
     "metadata": {},
     "output_type": "execute_result"
    },
    {
     "data": {
      "image/png": "[encoded data removed]",
      "text/plain": [
       "<Figure size 640x480 with 1 Axes>"
      ]
     },
     "metadata": {},
     "output_type": "display_data"
    }
   ],
   "source": [
    "#Plotting scattter plot and regressor line\n",
    "plt.scatter(x1_train, y1_train,color='g') \n",
    "\n",
    "plt.plot(x1_test, predict1,color='k')"
   ]
  },
  {
   "cell_type": "code",
   "execution_count": 125,
   "id": "3bb134bf",
   "metadata": {},
   "outputs": [
    {
     "data": {
      "text/plain": [
       "<AxesSubplot:>"
      ]
     },
     "execution_count": 125,
     "metadata": {},
     "output_type": "execute_result"
    },
    {
     "data": {
      "image/png": "[encoded data removed]",
      "text/plain": [
       "<Figure size 640x480 with 1 Axes>"
      ]
     },
     "metadata": {},
     "output_type": "display_data"
    }
   ],
   "source": [
    "#Plotting actual price & predicted price in form of bar graph\n",
    "graph1=dfr1.head(20)\n",
    "graph1.plot(kind='bar')\n"
   ]
  },
  {
   "cell_type": "markdown",
   "id": "4df7fcbd",
   "metadata": {},
   "source": [
    "# (ii) Modelling Stock Price as a function of \"High price\""
   ]
  },
  {
   "cell_type": "code",
   "execution_count": 112,
   "id": "99a9aed9",
   "metadata": {},
   "outputs": [
    {
     "data": {
      "text/html": [
       "<div>\n",
       "<style scoped>\n",
       "    .dataframe tbody tr th:only-of-type {\n",
       "        vertical-align: middle;\n",
       "    }\n",
       "\n",
       "    .dataframe tbody tr th {\n",
       "        vertical-align: top;\n",
       "    }\n",
       "\n",
       "    .dataframe thead th {\n",
       "        text-align: right;\n",
       "    }\n",
       "</style>\n",
       "<table border=\"1\" class=\"dataframe\">\n",
       "  <thead>\n",
       "    <tr style=\"text-align: right;\">\n",
       "      <th></th>\n",
       "      <th>High</th>\n",
       "    </tr>\n",
       "  </thead>\n",
       "  <tbody>\n",
       "    <tr>\n",
       "      <th>0</th>\n",
       "      <td>320.549988</td>\n",
       "    </tr>\n",
       "    <tr>\n",
       "      <th>1</th>\n",
       "      <td>331.600006</td>\n",
       "    </tr>\n",
       "    <tr>\n",
       "      <th>2</th>\n",
       "      <td>332.750000</td>\n",
       "    </tr>\n",
       "    <tr>\n",
       "      <th>3</th>\n",
       "      <td>316.899994</td>\n",
       "    </tr>\n",
       "    <tr>\n",
       "      <th>4</th>\n",
       "      <td>318.850006</td>\n",
       "    </tr>\n",
       "    <tr>\n",
       "      <th>...</th>\n",
       "      <td>...</td>\n",
       "    </tr>\n",
       "    <tr>\n",
       "      <th>1230</th>\n",
       "      <td>606.099976</td>\n",
       "    </tr>\n",
       "    <tr>\n",
       "      <th>1231</th>\n",
       "      <td>606.000000</td>\n",
       "    </tr>\n",
       "    <tr>\n",
       "      <th>1232</th>\n",
       "      <td>597.150024</td>\n",
       "    </tr>\n",
       "    <tr>\n",
       "      <th>1233</th>\n",
       "      <td>591.750000</td>\n",
       "    </tr>\n",
       "    <tr>\n",
       "      <th>1234</th>\n",
       "      <td>596.599976</td>\n",
       "    </tr>\n",
       "  </tbody>\n",
       "</table>\n",
       "<p>1235 rows × 1 columns</p>\n",
       "</div>"
      ],
      "text/plain": [
       "            High\n",
       "0     320.549988\n",
       "1     331.600006\n",
       "2     332.750000\n",
       "3     316.899994\n",
       "4     318.850006\n",
       "...          ...\n",
       "1230  606.099976\n",
       "1231  606.000000\n",
       "1232  597.150024\n",
       "1233  591.750000\n",
       "1234  596.599976\n",
       "\n",
       "[1235 rows x 1 columns]"
      ]
     },
     "execution_count": 112,
     "metadata": {},
     "output_type": "execute_result"
    }
   ],
   "source": [
    "x2=sbi[['High']]\n",
    "y2=sbi['Close']\n",
    "x2"
   ]
  },
  {
   "cell_type": "code",
   "execution_count": 107,
   "id": "645c9480",
   "metadata": {},
   "outputs": [],
   "source": [
    "#Splitting given data into training & test data\n",
    "x2_train,x2_test,y2_train,y2_test=train_test_split(x2,y2,random_state=0)"
   ]
  },
  {
   "cell_type": "code",
   "execution_count": 108,
   "id": "5fb035d2",
   "metadata": {},
   "outputs": [
    {
     "name": "stdout",
     "output_type": "stream",
     "text": [
      "(926, 1)\n",
      "(309, 1)\n"
     ]
    }
   ],
   "source": [
    "#Checking size of training and test data\n",
    "print(x2_train.shape)\n",
    "print(x2_test.shape)"
   ]
  },
  {
   "cell_type": "code",
   "execution_count": 159,
   "id": "3be09ffc",
   "metadata": {},
   "outputs": [
    {
     "data": {
      "text/plain": [
       "LinearRegression()"
      ]
     },
     "execution_count": 159,
     "metadata": {},
     "output_type": "execute_result"
    }
   ],
   "source": [
    "# (ii) Fitting Linear Regression Model for \"Close Price\" vs \"High Price\"\n",
    "model2=LinearRegression()\n",
    "model2.fit(x2_train,y2_train)"
   ]
  },
  {
   "cell_type": "code",
   "execution_count": 110,
   "id": "d278daf9",
   "metadata": {},
   "outputs": [
    {
     "name": "stdout",
     "output_type": "stream",
     "text": [
      "[0.99342704]\n",
      "-2.6051003180197654\n"
     ]
    }
   ],
   "source": [
    "#Printing model coefficient & intercept\n",
    "print(model2.coef_)\n",
    "print(model2.intercept_)"
   ]
  },
  {
   "cell_type": "code",
   "execution_count": 111,
   "id": "e5f053ab",
   "metadata": {},
   "outputs": [
    {
     "data": {
      "text/plain": [
       "(309,)"
      ]
     },
     "execution_count": 111,
     "metadata": {},
     "output_type": "execute_result"
    }
   ],
   "source": [
    "# (ii) Predicting stock price with \"high price\" as attribute\n",
    "predict2=model2.predict(x2_test)\n",
    "predict2.shape"
   ]
  },
  {
   "cell_type": "code",
   "execution_count": 116,
   "id": "6597f86d",
   "metadata": {},
   "outputs": [
    {
     "name": "stdout",
     "output_type": "stream",
     "text": [
      "            High\n",
      "1083  455.450012\n",
      "18    274.200012\n",
      "1099  488.250000\n",
      "818   419.200012\n",
      "184   261.799988\n",
      "...          ...\n",
      "907   462.299988\n",
      "801   364.299988\n",
      "1089  456.450012\n",
      "435   318.950012\n",
      "833   432.450012\n",
      "\n",
      "[309 rows x 1 columns]\n"
     ]
    }
   ],
   "source": [
    "#Priniting Test Data\n",
    "print(x2_test)"
   ]
  },
  {
   "cell_type": "code",
   "execution_count": 135,
   "id": "b3e574d5",
   "metadata": {},
   "outputs": [
    {
     "name": "stdout",
     "output_type": "stream",
     "text": [
      "      Actual Price  Predicted Price\n",
      "1083    451.350006       449.851257\n",
      "18      269.649994       269.792606\n",
      "1099    486.750000       482.435652\n",
      "818     412.049988       413.839527\n",
      "184     255.699997       257.474087\n",
      "...            ...              ...\n",
      "907     460.000000       456.656209\n",
      "801     363.399994       359.300359\n",
      "1089    451.399994       450.844684\n",
      "435     317.549988       314.248466\n",
      "833     430.350006       427.002435\n",
      "\n",
      "[309 rows x 2 columns]\n"
     ]
    }
   ],
   "source": [
    "#Printing Actual & Predicted Stock Price with \"High Price\" as attribute\n",
    "dfr2=pd.DataFrame({'Actual Price':y2_test,'Predicted Price':predict2})\n",
    "print(dfr2)"
   ]
  },
  {
   "cell_type": "code",
   "execution_count": 118,
   "id": "a1cb09e9",
   "metadata": {},
   "outputs": [
    {
     "data": {
      "text/html": [
       "<div>\n",
       "<style scoped>\n",
       "    .dataframe tbody tr th:only-of-type {\n",
       "        vertical-align: middle;\n",
       "    }\n",
       "\n",
       "    .dataframe tbody tr th {\n",
       "        vertical-align: top;\n",
       "    }\n",
       "\n",
       "    .dataframe thead th {\n",
       "        text-align: right;\n",
       "    }\n",
       "</style>\n",
       "<table border=\"1\" class=\"dataframe\">\n",
       "  <thead>\n",
       "    <tr style=\"text-align: right;\">\n",
       "      <th></th>\n",
       "      <th>Actual Price</th>\n",
       "      <th>Predicted Price</th>\n",
       "    </tr>\n",
       "  </thead>\n",
       "  <tbody>\n",
       "    <tr>\n",
       "      <th>1083</th>\n",
       "      <td>451.350006</td>\n",
       "      <td>449.851257</td>\n",
       "    </tr>\n",
       "    <tr>\n",
       "      <th>18</th>\n",
       "      <td>269.649994</td>\n",
       "      <td>269.792606</td>\n",
       "    </tr>\n",
       "    <tr>\n",
       "      <th>1099</th>\n",
       "      <td>486.750000</td>\n",
       "      <td>482.435652</td>\n",
       "    </tr>\n",
       "    <tr>\n",
       "      <th>818</th>\n",
       "      <td>412.049988</td>\n",
       "      <td>413.839527</td>\n",
       "    </tr>\n",
       "    <tr>\n",
       "      <th>184</th>\n",
       "      <td>255.699997</td>\n",
       "      <td>257.474087</td>\n",
       "    </tr>\n",
       "    <tr>\n",
       "      <th>608</th>\n",
       "      <td>190.750000</td>\n",
       "      <td>189.374675</td>\n",
       "    </tr>\n",
       "    <tr>\n",
       "      <th>1213</th>\n",
       "      <td>593.400024</td>\n",
       "      <td>592.457697</td>\n",
       "    </tr>\n",
       "    <tr>\n",
       "      <th>717</th>\n",
       "      <td>257.450012</td>\n",
       "      <td>254.394487</td>\n",
       "    </tr>\n",
       "    <tr>\n",
       "      <th>1137</th>\n",
       "      <td>536.700012</td>\n",
       "      <td>531.709610</td>\n",
       "    </tr>\n",
       "    <tr>\n",
       "      <th>1009</th>\n",
       "      <td>472.649994</td>\n",
       "      <td>482.137636</td>\n",
       "    </tr>\n",
       "    <tr>\n",
       "      <th>1068</th>\n",
       "      <td>454.100006</td>\n",
       "      <td>458.792101</td>\n",
       "    </tr>\n",
       "    <tr>\n",
       "      <th>621</th>\n",
       "      <td>190.949997</td>\n",
       "      <td>190.616459</td>\n",
       "    </tr>\n",
       "    <tr>\n",
       "      <th>761</th>\n",
       "      <td>406.250000</td>\n",
       "      <td>405.196700</td>\n",
       "    </tr>\n",
       "    <tr>\n",
       "      <th>1018</th>\n",
       "      <td>468.700012</td>\n",
       "      <td>470.911893</td>\n",
       "    </tr>\n",
       "    <tr>\n",
       "      <th>5</th>\n",
       "      <td>313.250000</td>\n",
       "      <td>311.913907</td>\n",
       "    </tr>\n",
       "    <tr>\n",
       "      <th>472</th>\n",
       "      <td>333.750000</td>\n",
       "      <td>331.534091</td>\n",
       "    </tr>\n",
       "    <tr>\n",
       "      <th>45</th>\n",
       "      <td>250.500000</td>\n",
       "      <td>248.533259</td>\n",
       "    </tr>\n",
       "    <tr>\n",
       "      <th>194</th>\n",
       "      <td>286.549988</td>\n",
       "      <td>284.395966</td>\n",
       "    </tr>\n",
       "    <tr>\n",
       "      <th>311</th>\n",
       "      <td>308.750000</td>\n",
       "      <td>305.655298</td>\n",
       "    </tr>\n",
       "    <tr>\n",
       "      <th>989</th>\n",
       "      <td>528.950012</td>\n",
       "      <td>524.755620</td>\n",
       "    </tr>\n",
       "    <tr>\n",
       "      <th>85</th>\n",
       "      <td>267.149994</td>\n",
       "      <td>263.633347</td>\n",
       "    </tr>\n",
       "    <tr>\n",
       "      <th>789</th>\n",
       "      <td>355.600006</td>\n",
       "      <td>358.306932</td>\n",
       "    </tr>\n",
       "    <tr>\n",
       "      <th>1138</th>\n",
       "      <td>538.900024</td>\n",
       "      <td>534.640231</td>\n",
       "    </tr>\n",
       "    <tr>\n",
       "      <th>853</th>\n",
       "      <td>427.450012</td>\n",
       "      <td>424.816884</td>\n",
       "    </tr>\n",
       "    <tr>\n",
       "      <th>302</th>\n",
       "      <td>310.799988</td>\n",
       "      <td>311.119147</td>\n",
       "    </tr>\n",
       "  </tbody>\n",
       "</table>\n",
       "</div>"
      ],
      "text/plain": [
       "      Actual Price  Predicted Price\n",
       "1083    451.350006       449.851257\n",
       "18      269.649994       269.792606\n",
       "1099    486.750000       482.435652\n",
       "818     412.049988       413.839527\n",
       "184     255.699997       257.474087\n",
       "608     190.750000       189.374675\n",
       "1213    593.400024       592.457697\n",
       "717     257.450012       254.394487\n",
       "1137    536.700012       531.709610\n",
       "1009    472.649994       482.137636\n",
       "1068    454.100006       458.792101\n",
       "621     190.949997       190.616459\n",
       "761     406.250000       405.196700\n",
       "1018    468.700012       470.911893\n",
       "5       313.250000       311.913907\n",
       "472     333.750000       331.534091\n",
       "45      250.500000       248.533259\n",
       "194     286.549988       284.395966\n",
       "311     308.750000       305.655298\n",
       "989     528.950012       524.755620\n",
       "85      267.149994       263.633347\n",
       "789     355.600006       358.306932\n",
       "1138    538.900024       534.640231\n",
       "853     427.450012       424.816884\n",
       "302     310.799988       311.119147"
      ]
     },
     "execution_count": 118,
     "metadata": {},
     "output_type": "execute_result"
    }
   ],
   "source": [
    "#Printing first 25 values of actual vs predicted stock price\n",
    "dfr2.head(25)"
   ]
  },
  {
   "cell_type": "code",
   "execution_count": 171,
   "id": "0960490d",
   "metadata": {},
   "outputs": [
    {
     "name": "stdout",
     "output_type": "stream",
     "text": [
      "R2 score of model: 99.89414205673515 %\n",
      "Mean Absolute Error: 2.9255752138807294\n",
      "Mean Squared Error: 15.193340220313706\n"
     ]
    }
   ],
   "source": [
    "#Finding r2 score,mean absolute error and mean squared error of developed model \n",
    "score2=model2.score(x2_test,y2_test)*100\n",
    "print('R2 score of model:',score2,'%')\n",
    "ae2=metrics.mean_absolute_error(y2_test,predict2)\n",
    "print('Mean Absolute Error:',ae2)\n",
    "se2=metrics.mean_squared_error(y2_test,predict2)\n",
    "print('Mean Squared Error:',se2)"
   ]
  },
  {
   "cell_type": "code",
   "execution_count": 122,
   "id": "af366313",
   "metadata": {},
   "outputs": [
    {
     "data": {
      "text/plain": [
       "[<matplotlib.lines.Line2D at 0x2338b5fae50>]"
      ]
     },
     "execution_count": 122,
     "metadata": {},
     "output_type": "execute_result"
    },
    {
     "data": {
      "image/png": "[encoded data removed]",
      "text/plain": [
       "<Figure size 640x480 with 1 Axes>"
      ]
     },
     "metadata": {},
     "output_type": "display_data"
    }
   ],
   "source": [
    "#Plotting scattter plot and regressor line\n",
    "plt.scatter(x2_train, y2_train,color='g') \n",
    "\n",
    "plt.plot(x2_test, predict2,color='k')"
   ]
  },
  {
   "cell_type": "code",
   "execution_count": 123,
   "id": "4161fc36",
   "metadata": {},
   "outputs": [
    {
     "data": {
      "text/plain": [
       "<AxesSubplot:>"
      ]
     },
     "execution_count": 123,
     "metadata": {},
     "output_type": "execute_result"
    },
    {
     "data": {
      "image/png": "[encoded data removed]",
      "text/plain": [
       "<Figure size 640x480 with 1 Axes>"
      ]
     },
     "metadata": {},
     "output_type": "display_data"
    }
   ],
   "source": [
    "#Plotting actual price & predicted price in form of bar graph\n",
    "graph2=dfr2.head(20)\n",
    "graph2.plot(kind='bar')\n"
   ]
  },
  {
   "cell_type": "markdown",
   "id": "b21fedfc",
   "metadata": {},
   "source": [
    "# (iii) Modelling Stock Price as a function of \"Low Price\""
   ]
  },
  {
   "cell_type": "code",
   "execution_count": 128,
   "id": "b1330bb9",
   "metadata": {},
   "outputs": [
    {
     "data": {
      "text/html": [
       "<div>\n",
       "<style scoped>\n",
       "    .dataframe tbody tr th:only-of-type {\n",
       "        vertical-align: middle;\n",
       "    }\n",
       "\n",
       "    .dataframe tbody tr th {\n",
       "        vertical-align: top;\n",
       "    }\n",
       "\n",
       "    .dataframe thead th {\n",
       "        text-align: right;\n",
       "    }\n",
       "</style>\n",
       "<table border=\"1\" class=\"dataframe\">\n",
       "  <thead>\n",
       "    <tr style=\"text-align: right;\">\n",
       "      <th></th>\n",
       "      <th>Low</th>\n",
       "    </tr>\n",
       "  </thead>\n",
       "  <tbody>\n",
       "    <tr>\n",
       "      <th>0</th>\n",
       "      <td>306.350006</td>\n",
       "    </tr>\n",
       "    <tr>\n",
       "      <th>1</th>\n",
       "      <td>316.200012</td>\n",
       "    </tr>\n",
       "    <tr>\n",
       "      <th>2</th>\n",
       "      <td>311.850006</td>\n",
       "    </tr>\n",
       "    <tr>\n",
       "      <th>3</th>\n",
       "      <td>311.000000</td>\n",
       "    </tr>\n",
       "    <tr>\n",
       "      <th>4</th>\n",
       "      <td>311.000000</td>\n",
       "    </tr>\n",
       "    <tr>\n",
       "      <th>...</th>\n",
       "      <td>...</td>\n",
       "    </tr>\n",
       "    <tr>\n",
       "      <th>1230</th>\n",
       "      <td>600.599976</td>\n",
       "    </tr>\n",
       "    <tr>\n",
       "      <th>1231</th>\n",
       "      <td>586.049988</td>\n",
       "    </tr>\n",
       "    <tr>\n",
       "      <th>1232</th>\n",
       "      <td>587.599976</td>\n",
       "    </tr>\n",
       "    <tr>\n",
       "      <th>1233</th>\n",
       "      <td>587.549988</td>\n",
       "    </tr>\n",
       "    <tr>\n",
       "      <th>1234</th>\n",
       "      <td>590.799988</td>\n",
       "    </tr>\n",
       "  </tbody>\n",
       "</table>\n",
       "<p>1235 rows × 1 columns</p>\n",
       "</div>"
      ],
      "text/plain": [
       "             Low\n",
       "0     306.350006\n",
       "1     316.200012\n",
       "2     311.850006\n",
       "3     311.000000\n",
       "4     311.000000\n",
       "...          ...\n",
       "1230  600.599976\n",
       "1231  586.049988\n",
       "1232  587.599976\n",
       "1233  587.549988\n",
       "1234  590.799988\n",
       "\n",
       "[1235 rows x 1 columns]"
      ]
     },
     "execution_count": 128,
     "metadata": {},
     "output_type": "execute_result"
    }
   ],
   "source": [
    "x3=sbi[['Low']]\n",
    "y3=sbi['Close']\n",
    "x3"
   ]
  },
  {
   "cell_type": "code",
   "execution_count": 129,
   "id": "e12c1144",
   "metadata": {},
   "outputs": [],
   "source": [
    "#Splitting given data into training & test data\n",
    "x3_train,x3_test,y3_train,y3_test=train_test_split(x3,y3,random_state=0)"
   ]
  },
  {
   "cell_type": "code",
   "execution_count": 130,
   "id": "6ec2dc8a",
   "metadata": {},
   "outputs": [
    {
     "name": "stdout",
     "output_type": "stream",
     "text": [
      "(926, 1)\n",
      "(309, 1)\n"
     ]
    }
   ],
   "source": [
    "#Checking size of training and test data\n",
    "print(x3_train.shape)\n",
    "print(x3_test.shape)"
   ]
  },
  {
   "cell_type": "code",
   "execution_count": 158,
   "id": "02d19fb6",
   "metadata": {},
   "outputs": [
    {
     "data": {
      "text/plain": [
       "LinearRegression()"
      ]
     },
     "execution_count": 158,
     "metadata": {},
     "output_type": "execute_result"
    }
   ],
   "source": [
    "# (iii) Fitting Linear Regression Model for \"Close Price\" vs \"Low Price\"\n",
    "model3=LinearRegression()\n",
    "model3.fit(x3_train,y3_train)"
   ]
  },
  {
   "cell_type": "code",
   "execution_count": 132,
   "id": "f90b01ba",
   "metadata": {},
   "outputs": [
    {
     "name": "stdout",
     "output_type": "stream",
     "text": [
      "[1.00558932]\n",
      "2.7743839868256828\n"
     ]
    }
   ],
   "source": [
    "#Printing model coefficient & intercept\n",
    "print(model3.coef_)\n",
    "print(model3.intercept_)"
   ]
  },
  {
   "cell_type": "code",
   "execution_count": 133,
   "id": "0fcd7c62",
   "metadata": {},
   "outputs": [
    {
     "data": {
      "text/plain": [
       "(309,)"
      ]
     },
     "execution_count": 133,
     "metadata": {},
     "output_type": "execute_result"
    }
   ],
   "source": [
    "# (iii) Predicting stock price with \"low price\" as attribute\n",
    "predict3=model3.predict(x3_test)\n",
    "predict3.shape"
   ]
  },
  {
   "cell_type": "code",
   "execution_count": 134,
   "id": "5d4341f7",
   "metadata": {},
   "outputs": [
    {
     "name": "stdout",
     "output_type": "stream",
     "text": [
      "             Low\n",
      "1083  448.600006\n",
      "18    264.799988\n",
      "1099  481.600006\n",
      "818   405.299988\n",
      "184   252.800003\n",
      "...          ...\n",
      "907   439.100006\n",
      "801   356.049988\n",
      "1089  446.000000\n",
      "435   314.000000\n",
      "833   416.700012\n",
      "\n",
      "[309 rows x 1 columns]\n"
     ]
    }
   ],
   "source": [
    "#Priniting Test Data\n",
    "print(x3_test)"
   ]
  },
  {
   "cell_type": "code",
   "execution_count": 136,
   "id": "1b8c082e",
   "metadata": {},
   "outputs": [
    {
     "name": "stdout",
     "output_type": "stream",
     "text": [
      "      Actual Price  Predicted Price\n",
      "1083    451.350006       453.881760\n",
      "18      269.649994       269.054424\n",
      "1099    486.750000       487.066208\n",
      "818     412.049988       410.339724\n",
      "184     255.699997       256.987368\n",
      "...            ...              ...\n",
      "907     460.000000       444.328661\n",
      "801     363.399994       360.814450\n",
      "1089    451.399994       451.267222\n",
      "435     317.549988       318.529431\n",
      "833     430.350006       421.803467\n",
      "\n",
      "[309 rows x 2 columns]\n"
     ]
    }
   ],
   "source": [
    "#Printing Actual & Predicted Stock Price with \"Low Price\" as attribute\n",
    "dfr3=pd.DataFrame({'Actual Price':y3_test,'Predicted Price':predict3})\n",
    "print(dfr3)"
   ]
  },
  {
   "cell_type": "code",
   "execution_count": 137,
   "id": "fc6295e8",
   "metadata": {},
   "outputs": [
    {
     "data": {
      "text/html": [
       "<div>\n",
       "<style scoped>\n",
       "    .dataframe tbody tr th:only-of-type {\n",
       "        vertical-align: middle;\n",
       "    }\n",
       "\n",
       "    .dataframe tbody tr th {\n",
       "        vertical-align: top;\n",
       "    }\n",
       "\n",
       "    .dataframe thead th {\n",
       "        text-align: right;\n",
       "    }\n",
       "</style>\n",
       "<table border=\"1\" class=\"dataframe\">\n",
       "  <thead>\n",
       "    <tr style=\"text-align: right;\">\n",
       "      <th></th>\n",
       "      <th>Actual Price</th>\n",
       "      <th>Predicted Price</th>\n",
       "    </tr>\n",
       "  </thead>\n",
       "  <tbody>\n",
       "    <tr>\n",
       "      <th>1083</th>\n",
       "      <td>451.350006</td>\n",
       "      <td>453.881760</td>\n",
       "    </tr>\n",
       "    <tr>\n",
       "      <th>18</th>\n",
       "      <td>269.649994</td>\n",
       "      <td>269.054424</td>\n",
       "    </tr>\n",
       "    <tr>\n",
       "      <th>1099</th>\n",
       "      <td>486.750000</td>\n",
       "      <td>487.066208</td>\n",
       "    </tr>\n",
       "    <tr>\n",
       "      <th>818</th>\n",
       "      <td>412.049988</td>\n",
       "      <td>410.339724</td>\n",
       "    </tr>\n",
       "    <tr>\n",
       "      <th>184</th>\n",
       "      <td>255.699997</td>\n",
       "      <td>256.987368</td>\n",
       "    </tr>\n",
       "    <tr>\n",
       "      <th>608</th>\n",
       "      <td>190.750000</td>\n",
       "      <td>192.579369</td>\n",
       "    </tr>\n",
       "    <tr>\n",
       "      <th>1213</th>\n",
       "      <td>593.400024</td>\n",
       "      <td>593.608378</td>\n",
       "    </tr>\n",
       "    <tr>\n",
       "      <th>717</th>\n",
       "      <td>257.450012</td>\n",
       "      <td>252.411933</td>\n",
       "    </tr>\n",
       "    <tr>\n",
       "      <th>1137</th>\n",
       "      <td>536.700012</td>\n",
       "      <td>536.993711</td>\n",
       "    </tr>\n",
       "    <tr>\n",
       "      <th>1009</th>\n",
       "      <td>472.649994</td>\n",
       "      <td>473.390187</td>\n",
       "    </tr>\n",
       "    <tr>\n",
       "      <th>1068</th>\n",
       "      <td>454.100006</td>\n",
       "      <td>457.351025</td>\n",
       "    </tr>\n",
       "    <tr>\n",
       "      <th>621</th>\n",
       "      <td>190.949997</td>\n",
       "      <td>194.087753</td>\n",
       "    </tr>\n",
       "    <tr>\n",
       "      <th>761</th>\n",
       "      <td>406.250000</td>\n",
       "      <td>400.183296</td>\n",
       "    </tr>\n",
       "    <tr>\n",
       "      <th>1018</th>\n",
       "      <td>468.700012</td>\n",
       "      <td>467.004689</td>\n",
       "    </tr>\n",
       "    <tr>\n",
       "      <th>5</th>\n",
       "      <td>313.250000</td>\n",
       "      <td>312.345063</td>\n",
       "    </tr>\n",
       "    <tr>\n",
       "      <th>472</th>\n",
       "      <td>333.750000</td>\n",
       "      <td>337.183101</td>\n",
       "    </tr>\n",
       "    <tr>\n",
       "      <th>45</th>\n",
       "      <td>250.500000</td>\n",
       "      <td>252.411933</td>\n",
       "    </tr>\n",
       "    <tr>\n",
       "      <th>194</th>\n",
       "      <td>286.549988</td>\n",
       "      <td>290.322663</td>\n",
       "    </tr>\n",
       "    <tr>\n",
       "      <th>311</th>\n",
       "      <td>308.750000</td>\n",
       "      <td>310.384152</td>\n",
       "    </tr>\n",
       "    <tr>\n",
       "      <th>989</th>\n",
       "      <td>528.950012</td>\n",
       "      <td>508.786943</td>\n",
       "    </tr>\n",
       "    <tr>\n",
       "      <th>85</th>\n",
       "      <td>267.149994</td>\n",
       "      <td>264.177340</td>\n",
       "    </tr>\n",
       "    <tr>\n",
       "      <th>789</th>\n",
       "      <td>355.600006</td>\n",
       "      <td>359.054669</td>\n",
       "    </tr>\n",
       "    <tr>\n",
       "      <th>1138</th>\n",
       "      <td>538.900024</td>\n",
       "      <td>542.071925</td>\n",
       "    </tr>\n",
       "    <tr>\n",
       "      <th>853</th>\n",
       "      <td>427.450012</td>\n",
       "      <td>429.747616</td>\n",
       "    </tr>\n",
       "    <tr>\n",
       "      <th>302</th>\n",
       "      <td>310.799988</td>\n",
       "      <td>312.546163</td>\n",
       "    </tr>\n",
       "  </tbody>\n",
       "</table>\n",
       "</div>"
      ],
      "text/plain": [
       "      Actual Price  Predicted Price\n",
       "1083    451.350006       453.881760\n",
       "18      269.649994       269.054424\n",
       "1099    486.750000       487.066208\n",
       "818     412.049988       410.339724\n",
       "184     255.699997       256.987368\n",
       "608     190.750000       192.579369\n",
       "1213    593.400024       593.608378\n",
       "717     257.450012       252.411933\n",
       "1137    536.700012       536.993711\n",
       "1009    472.649994       473.390187\n",
       "1068    454.100006       457.351025\n",
       "621     190.949997       194.087753\n",
       "761     406.250000       400.183296\n",
       "1018    468.700012       467.004689\n",
       "5       313.250000       312.345063\n",
       "472     333.750000       337.183101\n",
       "45      250.500000       252.411933\n",
       "194     286.549988       290.322663\n",
       "311     308.750000       310.384152\n",
       "989     528.950012       508.786943\n",
       "85      267.149994       264.177340\n",
       "789     355.600006       359.054669\n",
       "1138    538.900024       542.071925\n",
       "853     427.450012       429.747616\n",
       "302     310.799988       312.546163"
      ]
     },
     "execution_count": 137,
     "metadata": {},
     "output_type": "execute_result"
    }
   ],
   "source": [
    "#Printing first 25 values of actual vs predicted stock price\n",
    "dfr3.head(25)"
   ]
  },
  {
   "cell_type": "code",
   "execution_count": 172,
   "id": "ce61f656",
   "metadata": {},
   "outputs": [
    {
     "name": "stdout",
     "output_type": "stream",
     "text": [
      "R2 score of model: 99.8146095549431 %\n",
      "Mean Absolute Error: 3.16960945171918\n",
      "Mean Squared Error: 26.60830182858744\n"
     ]
    }
   ],
   "source": [
    "#Finding r2 score,mean absolute error and mean squared error of developed model \n",
    "score3=model3.score(x3_test,y3_test)*100\n",
    "print('R2 score of model:',score3,'%')\n",
    "ae3=metrics.mean_absolute_error(y3_test,predict3)\n",
    "print('Mean Absolute Error:',ae3)\n",
    "se3=metrics.mean_squared_error(y3_test,predict3)\n",
    "print('Mean Squared Error:',se3)"
   ]
  },
  {
   "cell_type": "code",
   "execution_count": 139,
   "id": "3a520408",
   "metadata": {},
   "outputs": [
    {
     "data": {
      "text/plain": [
       "[<matplotlib.lines.Line2D at 0x2338b910520>]"
      ]
     },
     "execution_count": 139,
     "metadata": {},
     "output_type": "execute_result"
    },
    {
     "data": {
      "image/png": "[encoded data removed]",
      "text/plain": [
       "<Figure size 640x480 with 1 Axes>"
      ]
     },
     "metadata": {},
     "output_type": "display_data"
    }
   ],
   "source": [
    "#Plotting scattter plot and regressor line\n",
    "plt.scatter(x3_train, y3_train,color='g') \n",
    "\n",
    "plt.plot(x3_test, predict3,color='k')"
   ]
  },
  {
   "cell_type": "code",
   "execution_count": 140,
   "id": "724ad36b",
   "metadata": {},
   "outputs": [
    {
     "data": {
      "text/plain": [
       "<AxesSubplot:>"
      ]
     },
     "execution_count": 140,
     "metadata": {},
     "output_type": "execute_result"
    },
    {
     "data": {
      "image/png": "[encoded data removed]",
      "text/plain": [
       "<Figure size 640x480 with 1 Axes>"
      ]
     },
     "metadata": {},
     "output_type": "display_data"
    }
   ],
   "source": [
    "#Plotting actual price & predicted price in form of bar graph\n",
    "graph3=dfr3.head(20)\n",
    "graph3.plot(kind='bar')"
   ]
  },
  {
   "cell_type": "markdown",
   "id": "38f0818d",
   "metadata": {},
   "source": [
    "# (iv) Modelling Stock Price as a function of \"Adjusted Closing Price\""
   ]
  },
  {
   "cell_type": "code",
   "execution_count": 141,
   "id": "ffd9dae7",
   "metadata": {},
   "outputs": [
    {
     "data": {
      "text/html": [
       "<div>\n",
       "<style scoped>\n",
       "    .dataframe tbody tr th:only-of-type {\n",
       "        vertical-align: middle;\n",
       "    }\n",
       "\n",
       "    .dataframe tbody tr th {\n",
       "        vertical-align: top;\n",
       "    }\n",
       "\n",
       "    .dataframe thead th {\n",
       "        text-align: right;\n",
       "    }\n",
       "</style>\n",
       "<table border=\"1\" class=\"dataframe\">\n",
       "  <thead>\n",
       "    <tr style=\"text-align: right;\">\n",
       "      <th></th>\n",
       "      <th>Adj Close</th>\n",
       "    </tr>\n",
       "  </thead>\n",
       "  <tbody>\n",
       "    <tr>\n",
       "      <th>0</th>\n",
       "      <td>310.346680</td>\n",
       "    </tr>\n",
       "    <tr>\n",
       "      <th>1</th>\n",
       "      <td>321.859100</td>\n",
       "    </tr>\n",
       "    <tr>\n",
       "      <th>2</th>\n",
       "      <td>305.517334</td>\n",
       "    </tr>\n",
       "    <tr>\n",
       "      <th>3</th>\n",
       "      <td>304.492920</td>\n",
       "    </tr>\n",
       "    <tr>\n",
       "      <th>4</th>\n",
       "      <td>305.907562</td>\n",
       "    </tr>\n",
       "    <tr>\n",
       "      <th>...</th>\n",
       "      <td>...</td>\n",
       "    </tr>\n",
       "    <tr>\n",
       "      <th>1230</th>\n",
       "      <td>603.000000</td>\n",
       "    </tr>\n",
       "    <tr>\n",
       "      <th>1231</th>\n",
       "      <td>592.950012</td>\n",
       "    </tr>\n",
       "    <tr>\n",
       "      <th>1232</th>\n",
       "      <td>591.450012</td>\n",
       "    </tr>\n",
       "    <tr>\n",
       "      <th>1233</th>\n",
       "      <td>589.849976</td>\n",
       "    </tr>\n",
       "    <tr>\n",
       "      <th>1234</th>\n",
       "      <td>592.200012</td>\n",
       "    </tr>\n",
       "  </tbody>\n",
       "</table>\n",
       "<p>1235 rows × 1 columns</p>\n",
       "</div>"
      ],
      "text/plain": [
       "       Adj Close\n",
       "0     310.346680\n",
       "1     321.859100\n",
       "2     305.517334\n",
       "3     304.492920\n",
       "4     305.907562\n",
       "...          ...\n",
       "1230  603.000000\n",
       "1231  592.950012\n",
       "1232  591.450012\n",
       "1233  589.849976\n",
       "1234  592.200012\n",
       "\n",
       "[1235 rows x 1 columns]"
      ]
     },
     "execution_count": 141,
     "metadata": {},
     "output_type": "execute_result"
    }
   ],
   "source": [
    "x4=sbi[['Adj Close']]\n",
    "y4=sbi['Close']\n",
    "x4"
   ]
  },
  {
   "cell_type": "code",
   "execution_count": 142,
   "id": "9345c29e",
   "metadata": {},
   "outputs": [],
   "source": [
    "#Splitting given data into training & test data\n",
    "x4_train,x4_test,y4_train,y4_test=train_test_split(x4,y4,random_state=0)"
   ]
  },
  {
   "cell_type": "code",
   "execution_count": 143,
   "id": "c458dfa7",
   "metadata": {},
   "outputs": [
    {
     "name": "stdout",
     "output_type": "stream",
     "text": [
      "(926, 1)\n",
      "(309, 1)\n"
     ]
    }
   ],
   "source": [
    "#Checking size of training and test data\n",
    "print(x4_train.shape)\n",
    "print(x4_test.shape)"
   ]
  },
  {
   "cell_type": "code",
   "execution_count": 157,
   "id": "77b324ef",
   "metadata": {},
   "outputs": [
    {
     "data": {
      "text/plain": [
       "LinearRegression()"
      ]
     },
     "execution_count": 157,
     "metadata": {},
     "output_type": "execute_result"
    }
   ],
   "source": [
    "# (iv) Fitting Linear Regression Model for \"Close Price\" vs \"Adjusted Closing Price\" \n",
    "model4=LinearRegression()\n",
    "model4.fit(x4_train,y4_train)"
   ]
  },
  {
   "cell_type": "code",
   "execution_count": 145,
   "id": "c554375b",
   "metadata": {},
   "outputs": [
    {
     "name": "stdout",
     "output_type": "stream",
     "text": [
      "[0.99192947]\n",
      "8.745466394982941\n"
     ]
    }
   ],
   "source": [
    "#Printing model coefficient & intercept\n",
    "print(model4.coef_)\n",
    "print(model4.intercept_)"
   ]
  },
  {
   "cell_type": "code",
   "execution_count": 146,
   "id": "5d1e2d97",
   "metadata": {},
   "outputs": [
    {
     "data": {
      "text/plain": [
       "(309,)"
      ]
     },
     "execution_count": 146,
     "metadata": {},
     "output_type": "execute_result"
    }
   ],
   "source": [
    "# (iv) Predicting stock price with \"Adjusted Closing price\" as attribute\n",
    "predict4=model4.predict(x4_test)\n",
    "predict4.shape"
   ]
  },
  {
   "cell_type": "code",
   "execution_count": 147,
   "id": "eb8e3e8c",
   "metadata": {},
   "outputs": [
    {
     "name": "stdout",
     "output_type": "stream",
     "text": [
      "       Adj Close\n",
      "1083  451.350006\n",
      "18    263.077606\n",
      "1099  486.750000\n",
      "818   402.006744\n",
      "184   249.467621\n",
      "...          ...\n",
      "907   452.931488\n",
      "801   354.542572\n",
      "1089  451.399994\n",
      "435   309.810089\n",
      "833   423.737122\n",
      "\n",
      "[309 rows x 1 columns]\n"
     ]
    }
   ],
   "source": [
    "#Priniting Test Data\n",
    "print(x4_test)"
   ]
  },
  {
   "cell_type": "code",
   "execution_count": 148,
   "id": "76fcaab5",
   "metadata": {},
   "outputs": [
    {
     "name": "stdout",
     "output_type": "stream",
     "text": [
      "      Actual Price  Predicted Price\n",
      "1083    451.350006       456.452838\n",
      "18      269.649994       269.699896\n",
      "1099    486.750000       491.567135\n",
      "818     412.049988       407.507802\n",
      "184     255.699997       256.199751\n",
      "...            ...              ...\n",
      "907     460.000000       458.021557\n",
      "801     363.399994       360.426691\n",
      "1089    451.399994       456.502423\n",
      "435     317.549988       316.055223\n",
      "833     430.350006       429.062805\n",
      "\n",
      "[309 rows x 2 columns]\n"
     ]
    }
   ],
   "source": [
    "#Printing Actual & Predicted Stock Price with \"Adjusted Closing Price\" as attribute\n",
    "dfr4=pd.DataFrame({'Actual Price':y4_test,'Predicted Price':predict4})\n",
    "print(dfr4)"
   ]
  },
  {
   "cell_type": "code",
   "execution_count": 149,
   "id": "4c6ba548",
   "metadata": {},
   "outputs": [
    {
     "data": {
      "text/html": [
       "<div>\n",
       "<style scoped>\n",
       "    .dataframe tbody tr th:only-of-type {\n",
       "        vertical-align: middle;\n",
       "    }\n",
       "\n",
       "    .dataframe tbody tr th {\n",
       "        vertical-align: top;\n",
       "    }\n",
       "\n",
       "    .dataframe thead th {\n",
       "        text-align: right;\n",
       "    }\n",
       "</style>\n",
       "<table border=\"1\" class=\"dataframe\">\n",
       "  <thead>\n",
       "    <tr style=\"text-align: right;\">\n",
       "      <th></th>\n",
       "      <th>Actual Price</th>\n",
       "      <th>Predicted Price</th>\n",
       "    </tr>\n",
       "  </thead>\n",
       "  <tbody>\n",
       "    <tr>\n",
       "      <th>1083</th>\n",
       "      <td>451.350006</td>\n",
       "      <td>456.452838</td>\n",
       "    </tr>\n",
       "    <tr>\n",
       "      <th>18</th>\n",
       "      <td>269.649994</td>\n",
       "      <td>269.699896</td>\n",
       "    </tr>\n",
       "    <tr>\n",
       "      <th>1099</th>\n",
       "      <td>486.750000</td>\n",
       "      <td>491.567135</td>\n",
       "    </tr>\n",
       "    <tr>\n",
       "      <th>818</th>\n",
       "      <td>412.049988</td>\n",
       "      <td>407.507802</td>\n",
       "    </tr>\n",
       "    <tr>\n",
       "      <th>184</th>\n",
       "      <td>255.699997</td>\n",
       "      <td>256.199751</td>\n",
       "    </tr>\n",
       "    <tr>\n",
       "      <th>608</th>\n",
       "      <td>190.750000</td>\n",
       "      <td>193.344228</td>\n",
       "    </tr>\n",
       "    <tr>\n",
       "      <th>1213</th>\n",
       "      <td>593.400024</td>\n",
       "      <td>597.356437</td>\n",
       "    </tr>\n",
       "    <tr>\n",
       "      <th>717</th>\n",
       "      <td>257.450012</td>\n",
       "      <td>257.893324</td>\n",
       "    </tr>\n",
       "    <tr>\n",
       "      <th>1137</th>\n",
       "      <td>536.700012</td>\n",
       "      <td>541.114024</td>\n",
       "    </tr>\n",
       "    <tr>\n",
       "      <th>1009</th>\n",
       "      <td>472.649994</td>\n",
       "      <td>470.376660</td>\n",
       "    </tr>\n",
       "    <tr>\n",
       "      <th>1068</th>\n",
       "      <td>454.100006</td>\n",
       "      <td>459.180644</td>\n",
       "    </tr>\n",
       "    <tr>\n",
       "      <th>621</th>\n",
       "      <td>190.949997</td>\n",
       "      <td>193.537767</td>\n",
       "    </tr>\n",
       "    <tr>\n",
       "      <th>761</th>\n",
       "      <td>406.250000</td>\n",
       "      <td>401.894871</td>\n",
       "    </tr>\n",
       "    <tr>\n",
       "      <th>1018</th>\n",
       "      <td>468.700012</td>\n",
       "      <td>466.518767</td>\n",
       "    </tr>\n",
       "    <tr>\n",
       "      <th>5</th>\n",
       "      <td>313.250000</td>\n",
       "      <td>311.893891</td>\n",
       "    </tr>\n",
       "    <tr>\n",
       "      <th>472</th>\n",
       "      <td>333.750000</td>\n",
       "      <td>331.732812</td>\n",
       "    </tr>\n",
       "    <tr>\n",
       "      <th>45</th>\n",
       "      <td>250.500000</td>\n",
       "      <td>251.167437</td>\n",
       "    </tr>\n",
       "    <tr>\n",
       "      <th>194</th>\n",
       "      <td>286.549988</td>\n",
       "      <td>286.054897</td>\n",
       "    </tr>\n",
       "    <tr>\n",
       "      <th>311</th>\n",
       "      <td>308.750000</td>\n",
       "      <td>307.539003</td>\n",
       "    </tr>\n",
       "    <tr>\n",
       "      <th>989</th>\n",
       "      <td>528.950012</td>\n",
       "      <td>525.364177</td>\n",
       "    </tr>\n",
       "    <tr>\n",
       "      <th>85</th>\n",
       "      <td>267.149994</td>\n",
       "      <td>267.280525</td>\n",
       "    </tr>\n",
       "    <tr>\n",
       "      <th>789</th>\n",
       "      <td>355.600006</td>\n",
       "      <td>352.878213</td>\n",
       "    </tr>\n",
       "    <tr>\n",
       "      <th>1138</th>\n",
       "      <td>538.900024</td>\n",
       "      <td>543.296281</td>\n",
       "    </tr>\n",
       "    <tr>\n",
       "      <th>853</th>\n",
       "      <td>427.450012</td>\n",
       "      <td>426.230411</td>\n",
       "    </tr>\n",
       "    <tr>\n",
       "      <th>302</th>\n",
       "      <td>310.799988</td>\n",
       "      <td>309.522892</td>\n",
       "    </tr>\n",
       "  </tbody>\n",
       "</table>\n",
       "</div>"
      ],
      "text/plain": [
       "      Actual Price  Predicted Price\n",
       "1083    451.350006       456.452838\n",
       "18      269.649994       269.699896\n",
       "1099    486.750000       491.567135\n",
       "818     412.049988       407.507802\n",
       "184     255.699997       256.199751\n",
       "608     190.750000       193.344228\n",
       "1213    593.400024       597.356437\n",
       "717     257.450012       257.893324\n",
       "1137    536.700012       541.114024\n",
       "1009    472.649994       470.376660\n",
       "1068    454.100006       459.180644\n",
       "621     190.949997       193.537767\n",
       "761     406.250000       401.894871\n",
       "1018    468.700012       466.518767\n",
       "5       313.250000       311.893891\n",
       "472     333.750000       331.732812\n",
       "45      250.500000       251.167437\n",
       "194     286.549988       286.054897\n",
       "311     308.750000       307.539003\n",
       "989     528.950012       525.364177\n",
       "85      267.149994       267.280525\n",
       "789     355.600006       352.878213\n",
       "1138    538.900024       543.296281\n",
       "853     427.450012       426.230411\n",
       "302     310.799988       309.522892"
      ]
     },
     "execution_count": 149,
     "metadata": {},
     "output_type": "execute_result"
    }
   ],
   "source": [
    "#Printing first 25 values of actual vs predicted stock price\n",
    "dfr4.head(25)"
   ]
  },
  {
   "cell_type": "code",
   "execution_count": 173,
   "id": "ed39028a",
   "metadata": {},
   "outputs": [
    {
     "name": "stdout",
     "output_type": "stream",
     "text": [
      "R2 score of model: 99.95343622947836 %\n",
      "Mean Absolute Error: 2.1419868896348437\n",
      "Mean Squared Error: 6.683099875707067\n"
     ]
    }
   ],
   "source": [
    "#Finding r2 score,mean absolute error and mean squared error of developed model \n",
    "score4=model4.score(x4_test,y4_test)*100\n",
    "print('R2 score of model:',score4,'%')\n",
    "ae4=metrics.mean_absolute_error(y4_test,predict4)\n",
    "print('Mean Absolute Error:',ae4)\n",
    "se4=metrics.mean_squared_error(y4_test,predict4)\n",
    "print('Mean Squared Error:',se4)"
   ]
  },
  {
   "cell_type": "code",
   "execution_count": 151,
   "id": "459f10b5",
   "metadata": {},
   "outputs": [
    {
     "data": {
      "text/plain": [
       "[<matplotlib.lines.Line2D at 0x2338cb9f130>]"
      ]
     },
     "execution_count": 151,
     "metadata": {},
     "output_type": "execute_result"
    },
    {
     "data": {
      "image/png": "[encoded data removed]",
      "text/plain": [
       "<Figure size 640x480 with 1 Axes>"
      ]
     },
     "metadata": {},
     "output_type": "display_data"
    }
   ],
   "source": [
    "#Plotting scattter plot and regressor line\n",
    "plt.scatter(x4_train, y4_train,color='g') \n",
    "\n",
    "plt.plot(x4_test, predict4,color='k')"
   ]
  },
  {
   "cell_type": "code",
   "execution_count": 152,
   "id": "f3f6d4d7",
   "metadata": {},
   "outputs": [
    {
     "data": {
      "text/plain": [
       "<AxesSubplot:>"
      ]
     },
     "execution_count": 152,
     "metadata": {},
     "output_type": "execute_result"
    },
    {
     "data": {
      "image/png": "[encoded data removed]",
      "text/plain": [
       "<Figure size 640x480 with 1 Axes>"
      ]
     },
     "metadata": {},
     "output_type": "display_data"
    }
   ],
   "source": [
    "#Plotting actual price & predicted price in form of bar graph\n",
    "graph4=dfr4.head(20)\n",
    "graph4.plot(kind='bar')"
   ]
  },
  {
   "cell_type": "markdown",
   "id": "e4ced6cd",
   "metadata": {},
   "source": [
    "# (v) Modelling stock price as a function of \"Volume\""
   ]
  },
  {
   "cell_type": "code",
   "execution_count": 153,
   "id": "6bdaf1b5",
   "metadata": {},
   "outputs": [
    {
     "data": {
      "text/html": [
       "<div>\n",
       "<style scoped>\n",
       "    .dataframe tbody tr th:only-of-type {\n",
       "        vertical-align: middle;\n",
       "    }\n",
       "\n",
       "    .dataframe tbody tr th {\n",
       "        vertical-align: top;\n",
       "    }\n",
       "\n",
       "    .dataframe thead th {\n",
       "        text-align: right;\n",
       "    }\n",
       "</style>\n",
       "<table border=\"1\" class=\"dataframe\">\n",
       "  <thead>\n",
       "    <tr style=\"text-align: right;\">\n",
       "      <th></th>\n",
       "      <th>Volume</th>\n",
       "    </tr>\n",
       "  </thead>\n",
       "  <tbody>\n",
       "    <tr>\n",
       "      <th>0</th>\n",
       "      <td>35252217</td>\n",
       "    </tr>\n",
       "    <tr>\n",
       "      <th>1</th>\n",
       "      <td>38070520</td>\n",
       "    </tr>\n",
       "    <tr>\n",
       "      <th>2</th>\n",
       "      <td>42466150</td>\n",
       "    </tr>\n",
       "    <tr>\n",
       "      <th>3</th>\n",
       "      <td>23600898</td>\n",
       "    </tr>\n",
       "    <tr>\n",
       "      <th>4</th>\n",
       "      <td>25810404</td>\n",
       "    </tr>\n",
       "    <tr>\n",
       "      <th>...</th>\n",
       "      <td>...</td>\n",
       "    </tr>\n",
       "    <tr>\n",
       "      <th>1230</th>\n",
       "      <td>5483191</td>\n",
       "    </tr>\n",
       "    <tr>\n",
       "      <th>1231</th>\n",
       "      <td>13461999</td>\n",
       "    </tr>\n",
       "    <tr>\n",
       "      <th>1232</th>\n",
       "      <td>11538075</td>\n",
       "    </tr>\n",
       "    <tr>\n",
       "      <th>1233</th>\n",
       "      <td>7475688</td>\n",
       "    </tr>\n",
       "    <tr>\n",
       "      <th>1234</th>\n",
       "      <td>6750607</td>\n",
       "    </tr>\n",
       "  </tbody>\n",
       "</table>\n",
       "<p>1235 rows × 1 columns</p>\n",
       "</div>"
      ],
      "text/plain": [
       "        Volume\n",
       "0     35252217\n",
       "1     38070520\n",
       "2     42466150\n",
       "3     23600898\n",
       "4     25810404\n",
       "...        ...\n",
       "1230   5483191\n",
       "1231  13461999\n",
       "1232  11538075\n",
       "1233   7475688\n",
       "1234   6750607\n",
       "\n",
       "[1235 rows x 1 columns]"
      ]
     },
     "execution_count": 153,
     "metadata": {},
     "output_type": "execute_result"
    }
   ],
   "source": [
    "x5=sbi[['Volume']]\n",
    "y5=sbi['Close']\n",
    "x5"
   ]
  },
  {
   "cell_type": "code",
   "execution_count": 154,
   "id": "1c376e5f",
   "metadata": {},
   "outputs": [],
   "source": [
    "#Splitting given data into training & test data\n",
    "x5_train,x5_test,y5_train,y5_test=train_test_split(x5,y5,random_state=0)"
   ]
  },
  {
   "cell_type": "code",
   "execution_count": 155,
   "id": "37244070",
   "metadata": {},
   "outputs": [
    {
     "name": "stdout",
     "output_type": "stream",
     "text": [
      "(926, 1)\n",
      "(309, 1)\n"
     ]
    }
   ],
   "source": [
    "#Checking size of training and test data\n",
    "print(x5_train.shape)\n",
    "print(x5_test.shape)"
   ]
  },
  {
   "cell_type": "code",
   "execution_count": 156,
   "id": "b982fa4b",
   "metadata": {},
   "outputs": [
    {
     "data": {
      "text/plain": [
       "LinearRegression()"
      ]
     },
     "execution_count": 156,
     "metadata": {},
     "output_type": "execute_result"
    }
   ],
   "source": [
    "# (v) Fitting Linear Regression Model for vs \"Close Price\" vs \"Volume\"\n",
    "model5=LinearRegression()\n",
    "model5.fit(x5_train,y5_train)"
   ]
  },
  {
   "cell_type": "code",
   "execution_count": 161,
   "id": "48746268",
   "metadata": {},
   "outputs": [
    {
     "name": "stdout",
     "output_type": "stream",
     "text": [
      "[-2.26593281e-06]\n",
      "423.09780062905713\n"
     ]
    }
   ],
   "source": [
    "#Printing model coefficient & intercept\n",
    "print(model5.coef_)\n",
    "print(model5.intercept_)"
   ]
  },
  {
   "cell_type": "code",
   "execution_count": 162,
   "id": "71a5adaf",
   "metadata": {},
   "outputs": [
    {
     "data": {
      "text/plain": [
       "(309,)"
      ]
     },
     "execution_count": 162,
     "metadata": {},
     "output_type": "execute_result"
    }
   ],
   "source": [
    "# (v) Predicting stock price with \"Volume\" as attribute\n",
    "predict5=model5.predict(x5_test)\n",
    "predict5.shape"
   ]
  },
  {
   "cell_type": "code",
   "execution_count": 163,
   "id": "95c01382",
   "metadata": {},
   "outputs": [
    {
     "name": "stdout",
     "output_type": "stream",
     "text": [
      "         Volume\n",
      "1083    9920926\n",
      "18     33458021\n",
      "1099   11497832\n",
      "818   142964052\n",
      "184    25636533\n",
      "...         ...\n",
      "907    38635938\n",
      "801    56696255\n",
      "1089   12229833\n",
      "435    32157080\n",
      "833    30106015\n",
      "\n",
      "[309 rows x 1 columns]\n"
     ]
    }
   ],
   "source": [
    "#Priniting Test Data\n",
    "print(x5_test)"
   ]
  },
  {
   "cell_type": "code",
   "execution_count": 164,
   "id": "689397e9",
   "metadata": {},
   "outputs": [
    {
     "name": "stdout",
     "output_type": "stream",
     "text": [
      "      Actual Price  Predicted Price\n",
      "1083    451.350006       400.617649\n",
      "18      269.649994       347.284173\n",
      "1099    486.750000       397.044486\n",
      "818     412.049988        99.150865\n",
      "184     255.699997       365.007139\n",
      "...            ...              ...\n",
      "907     460.000000       335.551361\n",
      "801     363.399994       294.627896\n",
      "1089    451.399994       395.385821\n",
      "435     317.549988       350.232018\n",
      "833     430.350006       354.879593\n",
      "\n",
      "[309 rows x 2 columns]\n"
     ]
    }
   ],
   "source": [
    "#Printing Actual & Predicted Stock Price with \"Volume\" as attribute\n",
    "dfr5=pd.DataFrame({'Actual Price':y5_test,'Predicted Price':predict5})\n",
    "print(dfr5)"
   ]
  },
  {
   "cell_type": "code",
   "execution_count": 165,
   "id": "d0cf1484",
   "metadata": {},
   "outputs": [
    {
     "data": {
      "text/html": [
       "<div>\n",
       "<style scoped>\n",
       "    .dataframe tbody tr th:only-of-type {\n",
       "        vertical-align: middle;\n",
       "    }\n",
       "\n",
       "    .dataframe tbody tr th {\n",
       "        vertical-align: top;\n",
       "    }\n",
       "\n",
       "    .dataframe thead th {\n",
       "        text-align: right;\n",
       "    }\n",
       "</style>\n",
       "<table border=\"1\" class=\"dataframe\">\n",
       "  <thead>\n",
       "    <tr style=\"text-align: right;\">\n",
       "      <th></th>\n",
       "      <th>Actual Price</th>\n",
       "      <th>Predicted Price</th>\n",
       "    </tr>\n",
       "  </thead>\n",
       "  <tbody>\n",
       "    <tr>\n",
       "      <th>1083</th>\n",
       "      <td>451.350006</td>\n",
       "      <td>400.617649</td>\n",
       "    </tr>\n",
       "    <tr>\n",
       "      <th>18</th>\n",
       "      <td>269.649994</td>\n",
       "      <td>347.284173</td>\n",
       "    </tr>\n",
       "    <tr>\n",
       "      <th>1099</th>\n",
       "      <td>486.750000</td>\n",
       "      <td>397.044486</td>\n",
       "    </tr>\n",
       "    <tr>\n",
       "      <th>818</th>\n",
       "      <td>412.049988</td>\n",
       "      <td>99.150865</td>\n",
       "    </tr>\n",
       "    <tr>\n",
       "      <th>184</th>\n",
       "      <td>255.699997</td>\n",
       "      <td>365.007139</td>\n",
       "    </tr>\n",
       "    <tr>\n",
       "      <th>608</th>\n",
       "      <td>190.750000</td>\n",
       "      <td>319.606178</td>\n",
       "    </tr>\n",
       "    <tr>\n",
       "      <th>1213</th>\n",
       "      <td>593.400024</td>\n",
       "      <td>403.293210</td>\n",
       "    </tr>\n",
       "    <tr>\n",
       "      <th>717</th>\n",
       "      <td>257.450012</td>\n",
       "      <td>307.105672</td>\n",
       "    </tr>\n",
       "    <tr>\n",
       "      <th>1137</th>\n",
       "      <td>536.700012</td>\n",
       "      <td>400.397844</td>\n",
       "    </tr>\n",
       "    <tr>\n",
       "      <th>1009</th>\n",
       "      <td>472.649994</td>\n",
       "      <td>349.781195</td>\n",
       "    </tr>\n",
       "    <tr>\n",
       "      <th>1068</th>\n",
       "      <td>454.100006</td>\n",
       "      <td>394.255549</td>\n",
       "    </tr>\n",
       "    <tr>\n",
       "      <th>621</th>\n",
       "      <td>190.949997</td>\n",
       "      <td>287.730585</td>\n",
       "    </tr>\n",
       "    <tr>\n",
       "      <th>761</th>\n",
       "      <td>406.250000</td>\n",
       "      <td>333.294148</td>\n",
       "    </tr>\n",
       "    <tr>\n",
       "      <th>1018</th>\n",
       "      <td>468.700012</td>\n",
       "      <td>344.802347</td>\n",
       "    </tr>\n",
       "    <tr>\n",
       "      <th>5</th>\n",
       "      <td>313.250000</td>\n",
       "      <td>385.913984</td>\n",
       "    </tr>\n",
       "    <tr>\n",
       "      <th>472</th>\n",
       "      <td>333.750000</td>\n",
       "      <td>369.164895</td>\n",
       "    </tr>\n",
       "    <tr>\n",
       "      <th>45</th>\n",
       "      <td>250.500000</td>\n",
       "      <td>378.043558</td>\n",
       "    </tr>\n",
       "    <tr>\n",
       "      <th>194</th>\n",
       "      <td>286.549988</td>\n",
       "      <td>415.592669</td>\n",
       "    </tr>\n",
       "    <tr>\n",
       "      <th>311</th>\n",
       "      <td>308.750000</td>\n",
       "      <td>398.990052</td>\n",
       "    </tr>\n",
       "    <tr>\n",
       "      <th>989</th>\n",
       "      <td>528.950012</td>\n",
       "      <td>342.862865</td>\n",
       "    </tr>\n",
       "    <tr>\n",
       "      <th>85</th>\n",
       "      <td>267.149994</td>\n",
       "      <td>379.319505</td>\n",
       "    </tr>\n",
       "    <tr>\n",
       "      <th>789</th>\n",
       "      <td>355.600006</td>\n",
       "      <td>347.483036</td>\n",
       "    </tr>\n",
       "    <tr>\n",
       "      <th>1138</th>\n",
       "      <td>538.900024</td>\n",
       "      <td>405.378220</td>\n",
       "    </tr>\n",
       "    <tr>\n",
       "      <th>853</th>\n",
       "      <td>427.450012</td>\n",
       "      <td>393.897221</td>\n",
       "    </tr>\n",
       "    <tr>\n",
       "      <th>302</th>\n",
       "      <td>310.799988</td>\n",
       "      <td>387.542668</td>\n",
       "    </tr>\n",
       "  </tbody>\n",
       "</table>\n",
       "</div>"
      ],
      "text/plain": [
       "      Actual Price  Predicted Price\n",
       "1083    451.350006       400.617649\n",
       "18      269.649994       347.284173\n",
       "1099    486.750000       397.044486\n",
       "818     412.049988        99.150865\n",
       "184     255.699997       365.007139\n",
       "608     190.750000       319.606178\n",
       "1213    593.400024       403.293210\n",
       "717     257.450012       307.105672\n",
       "1137    536.700012       400.397844\n",
       "1009    472.649994       349.781195\n",
       "1068    454.100006       394.255549\n",
       "621     190.949997       287.730585\n",
       "761     406.250000       333.294148\n",
       "1018    468.700012       344.802347\n",
       "5       313.250000       385.913984\n",
       "472     333.750000       369.164895\n",
       "45      250.500000       378.043558\n",
       "194     286.549988       415.592669\n",
       "311     308.750000       398.990052\n",
       "989     528.950012       342.862865\n",
       "85      267.149994       379.319505\n",
       "789     355.600006       347.483036\n",
       "1138    538.900024       405.378220\n",
       "853     427.450012       393.897221\n",
       "302     310.799988       387.542668"
      ]
     },
     "execution_count": 165,
     "metadata": {},
     "output_type": "execute_result"
    }
   ],
   "source": [
    "#Printing first 25 values of actual vs predicted stock price\n",
    "dfr5.head(25)"
   ]
  },
  {
   "cell_type": "code",
   "execution_count": 174,
   "id": "ea864955",
   "metadata": {},
   "outputs": [
    {
     "name": "stdout",
     "output_type": "stream",
     "text": [
      "R2 score of model: 18.065912597940304 %\n",
      "Mean Absolute Error: 93.40291659209797\n",
      "Mean Squared Error: 11759.650973246207\n"
     ]
    }
   ],
   "source": [
    "#Finding r2 score,mean absolute error and mean squared error of developed model \n",
    "score5=model5.score(x5_test,y5_test)*100\n",
    "print('R2 score of model:',score5,'%')\n",
    "ae5=metrics.mean_absolute_error(y5_test,predict5)\n",
    "print('Mean Absolute Error:',ae5)\n",
    "se5=metrics.mean_squared_error(y5_test,predict5)\n",
    "print('Mean Squared Error:',se5)"
   ]
  },
  {
   "cell_type": "code",
   "execution_count": 167,
   "id": "b5789ea5",
   "metadata": {},
   "outputs": [
    {
     "data": {
      "text/plain": [
       "[<matplotlib.lines.Line2D at 0x2338cb05f40>]"
      ]
     },
     "execution_count": 167,
     "metadata": {},
     "output_type": "execute_result"
    },
    {
     "data": {
      "image/png": "[encoded data removed]",
      "text/plain": [
       "<Figure size 640x480 with 1 Axes>"
      ]
     },
     "metadata": {},
     "output_type": "display_data"
    }
   ],
   "source": [
    "#Plotting scattter plot and regressor line\n",
    "plt.scatter(x5_train, y5_train,color='g') \n",
    "\n",
    "plt.plot(x5_test, predict5,color='k')"
   ]
  },
  {
   "cell_type": "code",
   "execution_count": 168,
   "id": "a5f040ac",
   "metadata": {},
   "outputs": [
    {
     "data": {
      "text/plain": [
       "<AxesSubplot:>"
      ]
     },
     "execution_count": 168,
     "metadata": {},
     "output_type": "execute_result"
    },
    {
     "data": {
      "image/png": "[encoded data removed]",
      "text/plain": [
       "<Figure size 640x480 with 1 Axes>"
      ]
     },
     "metadata": {},
     "output_type": "display_data"
    }
   ],
   "source": [
    "#Plotting actual price & predicted price in form of bar graph\n",
    "graph5=dfr5.head(20)\n",
    "graph5.plot(kind='bar')"
   ]
  },
  {
   "cell_type": "markdown",
   "id": "7de05b23",
   "metadata": {},
   "source": [
    "# Finding the Best Fit Attribute "
   ]
  },
  {
   "cell_type": "code",
   "execution_count": 186,
   "id": "18a39dca",
   "metadata": {},
   "outputs": [
    {
     "name": "stdout",
     "output_type": "stream",
     "text": [
      "Maximum R2 score is: 99.95343622947836 for attribute: Adj Close\n",
      "Minimum mean absolute error is: 2.1419868896348437 for attribute: Adj Close\n",
      "Minimum mean squared error is: 6.683099875707067 for attribute: Adj Close\n",
      "Minimum R2 score is: 18.065912597940304 for attribute: Volume\n",
      "\n",
      "\n",
      "So,THE BEST FIT ATTRIBUTE FOR THE GIVEN SBI DATA IS: Adj Close\n",
      "\n",
      "\n",
      "AND,THE WORST FIT ATTRIBUTE FOR THE GIVEN SBI DATA IS: Volume\n"
     ]
    }
   ],
   "source": [
    "#Defining r2 score,mean absolute error, mean squared error\n",
    "score=[score1,score2,score3,score4,score5]\n",
    "ae=[ae1,ae2,ae3,ae4,ae5]\n",
    "se=[se1,se2,se3,se4,se5]\n",
    "attributes=[\"Open\",\"High\",\"Low\",\"Adj Close\",\"Volume\"]\n",
    "\n",
    "#Finding maximum r2 score\n",
    "max_score=max(score)\n",
    "max_score_index=score.index(max_score)\n",
    "print(\"Maximum R2 score is:\",max_score,\"for attribute:\",attributes[max_score_index])\n",
    "\n",
    "#Finding minimum mean absolute error\n",
    "min_ae=min(ae)\n",
    "min_ae_index=ae.index(min_ae)\n",
    "print(\"Minimum mean absolute error is:\",min_ae,\"for attribute:\",attributes[min_ae_index])\n",
    "\n",
    "#Finding minimum mean squared error\n",
    "min_se=min(se)\n",
    "min_se_index=se.index(min_se)\n",
    "print(\"Minimum mean squared error is:\",min_se,\"for attribute:\",attributes[min_se_index])\n",
    "\n",
    "#Finding minimum r2 score\n",
    "min_score=min(score)\n",
    "min_score_index=score.index(min_score)\n",
    "print(\"Minimum R2 score is:\",min_score,\"for attribute:\",attributes[min_score_index])\n",
    "\n",
    "print(\"\\n\")\n",
    "print(\"So,THE BEST FIT ATTRIBUTE FOR THE GIVEN SBI DATA IS:\",attributes[max_score_index])\n",
    "print(\"\\n\")\n",
    "print(\"AND,THE WORST FIT ATTRIBUTE FOR THE GIVEN SBI DATA IS:\",attributes[min_score_index])"
   ]
  },
  {
   "cell_type": "markdown",
   "id": "7b927064",
   "metadata": {},
   "source": [
    "# Linear Regression Model for stock price of SBI as a function of sensex stock price data for last 5 years.\n"
   ]
  },
  {
   "cell_type": "code",
   "execution_count": 189,
   "id": "5994ca24",
   "metadata": {},
   "outputs": [],
   "source": [
    "#Reading SBI sensex stock data of last 5 years\n",
    "\n",
    "sbi1=pd.read_csv(\"SBIN.BO.csv\")"
   ]
  },
  {
   "cell_type": "code",
   "execution_count": 190,
   "id": "019370dc",
   "metadata": {},
   "outputs": [
    {
     "data": {
      "text/html": [
       "<div>\n",
       "<style scoped>\n",
       "    .dataframe tbody tr th:only-of-type {\n",
       "        vertical-align: middle;\n",
       "    }\n",
       "\n",
       "    .dataframe tbody tr th {\n",
       "        vertical-align: top;\n",
       "    }\n",
       "\n",
       "    .dataframe thead th {\n",
       "        text-align: right;\n",
       "    }\n",
       "</style>\n",
       "<table border=\"1\" class=\"dataframe\">\n",
       "  <thead>\n",
       "    <tr style=\"text-align: right;\">\n",
       "      <th></th>\n",
       "      <th>Date</th>\n",
       "      <th>Open</th>\n",
       "      <th>High</th>\n",
       "      <th>Low</th>\n",
       "      <th>Close</th>\n",
       "      <th>Adj Close</th>\n",
       "      <th>Volume</th>\n",
       "    </tr>\n",
       "  </thead>\n",
       "  <tbody>\n",
       "    <tr>\n",
       "      <th>0</th>\n",
       "      <td>2018-01-29</td>\n",
       "      <td>313.799988</td>\n",
       "      <td>318.000000</td>\n",
       "      <td>310.000000</td>\n",
       "      <td>311.100006</td>\n",
       "      <td>303.520081</td>\n",
       "      <td>1897912</td>\n",
       "    </tr>\n",
       "    <tr>\n",
       "      <th>1</th>\n",
       "      <td>2018-01-30</td>\n",
       "      <td>311.049988</td>\n",
       "      <td>318.750000</td>\n",
       "      <td>310.799988</td>\n",
       "      <td>312.850006</td>\n",
       "      <td>305.227448</td>\n",
       "      <td>1516354</td>\n",
       "    </tr>\n",
       "    <tr>\n",
       "      <th>2</th>\n",
       "      <td>2018-01-31</td>\n",
       "      <td>313.000000</td>\n",
       "      <td>316.450012</td>\n",
       "      <td>307.649994</td>\n",
       "      <td>312.750000</td>\n",
       "      <td>305.129883</td>\n",
       "      <td>1593330</td>\n",
       "    </tr>\n",
       "    <tr>\n",
       "      <th>3</th>\n",
       "      <td>2018-02-01</td>\n",
       "      <td>316.049988</td>\n",
       "      <td>317.450012</td>\n",
       "      <td>304.500000</td>\n",
       "      <td>305.549988</td>\n",
       "      <td>298.105255</td>\n",
       "      <td>2992953</td>\n",
       "    </tr>\n",
       "    <tr>\n",
       "      <th>4</th>\n",
       "      <td>2018-02-02</td>\n",
       "      <td>302.000000</td>\n",
       "      <td>305.399994</td>\n",
       "      <td>295.049988</td>\n",
       "      <td>296.899994</td>\n",
       "      <td>289.666046</td>\n",
       "      <td>1746741</td>\n",
       "    </tr>\n",
       "  </tbody>\n",
       "</table>\n",
       "</div>"
      ],
      "text/plain": [
       "         Date        Open        High         Low       Close   Adj Close  \\\n",
       "0  2018-01-29  313.799988  318.000000  310.000000  311.100006  303.520081   \n",
       "1  2018-01-30  311.049988  318.750000  310.799988  312.850006  305.227448   \n",
       "2  2018-01-31  313.000000  316.450012  307.649994  312.750000  305.129883   \n",
       "3  2018-02-01  316.049988  317.450012  304.500000  305.549988  298.105255   \n",
       "4  2018-02-02  302.000000  305.399994  295.049988  296.899994  289.666046   \n",
       "\n",
       "    Volume  \n",
       "0  1897912  \n",
       "1  1516354  \n",
       "2  1593330  \n",
       "3  2992953  \n",
       "4  1746741  "
      ]
     },
     "execution_count": 190,
     "metadata": {},
     "output_type": "execute_result"
    }
   ],
   "source": [
    "#Data visualisation\n",
    "\n",
    "sbi1.head()"
   ]
  },
  {
   "cell_type": "code",
   "execution_count": 191,
   "id": "1e2355ac",
   "metadata": {},
   "outputs": [
    {
     "name": "stdout",
     "output_type": "stream",
     "text": [
      "No. of rows are : 1235\n",
      "No. of columns are: 7\n"
     ]
    }
   ],
   "source": [
    "#Checking number of rows and columns in given data\n",
    "\n",
    "rows1=sbi1.shape[0]\n",
    "col1=sbi1.shape[1]\n",
    "\n",
    "print(\"No. of rows are :\",rows1)\n",
    "print(\"No. of columns are:\",col1)"
   ]
  },
  {
   "cell_type": "code",
   "execution_count": 192,
   "id": "b6d41cf5",
   "metadata": {},
   "outputs": [
    {
     "name": "stdout",
     "output_type": "stream",
     "text": [
      "<class 'pandas.core.frame.DataFrame'>\n",
      "RangeIndex: 1235 entries, 0 to 1234\n",
      "Data columns (total 7 columns):\n",
      " #   Column     Non-Null Count  Dtype  \n",
      "---  ------     --------------  -----  \n",
      " 0   Date       1235 non-null   object \n",
      " 1   Open       1235 non-null   float64\n",
      " 2   High       1235 non-null   float64\n",
      " 3   Low        1235 non-null   float64\n",
      " 4   Close      1235 non-null   float64\n",
      " 5   Adj Close  1235 non-null   float64\n",
      " 6   Volume     1235 non-null   int64  \n",
      "dtypes: float64(5), int64(1), object(1)\n",
      "memory usage: 67.7+ KB\n"
     ]
    }
   ],
   "source": [
    "#Getting information about given data\n",
    "sbi1.info()"
   ]
  },
  {
   "cell_type": "code",
   "execution_count": 193,
   "id": "843c7df4",
   "metadata": {},
   "outputs": [
    {
     "data": {
      "text/html": [
       "<div>\n",
       "<style scoped>\n",
       "    .dataframe tbody tr th:only-of-type {\n",
       "        vertical-align: middle;\n",
       "    }\n",
       "\n",
       "    .dataframe tbody tr th {\n",
       "        vertical-align: top;\n",
       "    }\n",
       "\n",
       "    .dataframe thead th {\n",
       "        text-align: right;\n",
       "    }\n",
       "</style>\n",
       "<table border=\"1\" class=\"dataframe\">\n",
       "  <thead>\n",
       "    <tr style=\"text-align: right;\">\n",
       "      <th></th>\n",
       "      <th>Open</th>\n",
       "      <th>High</th>\n",
       "      <th>Low</th>\n",
       "      <th>Close</th>\n",
       "      <th>Adj Close</th>\n",
       "      <th>Volume</th>\n",
       "    </tr>\n",
       "  </thead>\n",
       "  <tbody>\n",
       "    <tr>\n",
       "      <th>count</th>\n",
       "      <td>1235.000000</td>\n",
       "      <td>1235.000000</td>\n",
       "      <td>1235.000000</td>\n",
       "      <td>1235.000000</td>\n",
       "      <td>1235.000000</td>\n",
       "      <td>1.235000e+03</td>\n",
       "    </tr>\n",
       "    <tr>\n",
       "      <th>mean</th>\n",
       "      <td>353.620567</td>\n",
       "      <td>358.093765</td>\n",
       "      <td>348.493643</td>\n",
       "      <td>353.153118</td>\n",
       "      <td>347.205333</td>\n",
       "      <td>1.787682e+06</td>\n",
       "    </tr>\n",
       "    <tr>\n",
       "      <th>std</th>\n",
       "      <td>119.782132</td>\n",
       "      <td>120.550443</td>\n",
       "      <td>119.027446</td>\n",
       "      <td>119.825146</td>\n",
       "      <td>120.763371</td>\n",
       "      <td>1.544275e+06</td>\n",
       "    </tr>\n",
       "    <tr>\n",
       "      <th>min</th>\n",
       "      <td>152.000000</td>\n",
       "      <td>153.300003</td>\n",
       "      <td>149.550003</td>\n",
       "      <td>150.850006</td>\n",
       "      <td>147.174561</td>\n",
       "      <td>0.000000e+00</td>\n",
       "    </tr>\n",
       "    <tr>\n",
       "      <th>25%</th>\n",
       "      <td>267.600006</td>\n",
       "      <td>271.225006</td>\n",
       "      <td>263.050003</td>\n",
       "      <td>267.574997</td>\n",
       "      <td>261.055557</td>\n",
       "      <td>7.562940e+05</td>\n",
       "    </tr>\n",
       "    <tr>\n",
       "      <th>50%</th>\n",
       "      <td>316.100006</td>\n",
       "      <td>321.399994</td>\n",
       "      <td>312.299988</td>\n",
       "      <td>316.450012</td>\n",
       "      <td>308.739746</td>\n",
       "      <td>1.270634e+06</td>\n",
       "    </tr>\n",
       "    <tr>\n",
       "      <th>75%</th>\n",
       "      <td>456.949997</td>\n",
       "      <td>463.075012</td>\n",
       "      <td>451.050003</td>\n",
       "      <td>456.324997</td>\n",
       "      <td>450.710327</td>\n",
       "      <td>2.293521e+06</td>\n",
       "    </tr>\n",
       "    <tr>\n",
       "      <th>max</th>\n",
       "      <td>625.000000</td>\n",
       "      <td>629.650024</td>\n",
       "      <td>617.349976</td>\n",
       "      <td>625.549988</td>\n",
       "      <td>625.549988</td>\n",
       "      <td>1.214769e+07</td>\n",
       "    </tr>\n",
       "  </tbody>\n",
       "</table>\n",
       "</div>"
      ],
      "text/plain": [
       "              Open         High          Low        Close    Adj Close  \\\n",
       "count  1235.000000  1235.000000  1235.000000  1235.000000  1235.000000   \n",
       "mean    353.620567   358.093765   348.493643   353.153118   347.205333   \n",
       "std     119.782132   120.550443   119.027446   119.825146   120.763371   \n",
       "min     152.000000   153.300003   149.550003   150.850006   147.174561   \n",
       "25%     267.600006   271.225006   263.050003   267.574997   261.055557   \n",
       "50%     316.100006   321.399994   312.299988   316.450012   308.739746   \n",
       "75%     456.949997   463.075012   451.050003   456.324997   450.710327   \n",
       "max     625.000000   629.650024   617.349976   625.549988   625.549988   \n",
       "\n",
       "             Volume  \n",
       "count  1.235000e+03  \n",
       "mean   1.787682e+06  \n",
       "std    1.544275e+06  \n",
       "min    0.000000e+00  \n",
       "25%    7.562940e+05  \n",
       "50%    1.270634e+06  \n",
       "75%    2.293521e+06  \n",
       "max    1.214769e+07  "
      ]
     },
     "execution_count": 193,
     "metadata": {},
     "output_type": "execute_result"
    }
   ],
   "source": [
    "#Describing given data\n",
    "sbi1.describe()"
   ]
  },
  {
   "cell_type": "code",
   "execution_count": 194,
   "id": "8d559bab",
   "metadata": {},
   "outputs": [
    {
     "data": {
      "text/plain": [
       "<AxesSubplot:>"
      ]
     },
     "execution_count": 194,
     "metadata": {},
     "output_type": "execute_result"
    },
    {
     "data": {
      "image/png": "[encoded data removed]",
      "text/plain": [
       "<Figure size 1600x600 with 1 Axes>"
      ]
     },
     "metadata": {},
     "output_type": "display_data"
    }
   ],
   "source": [
    "#Visualising open price\n",
    "sbi1['Open'].plot(figsize=(16,6))"
   ]
  },
  {
   "cell_type": "code",
   "execution_count": 196,
   "id": "0afc058e",
   "metadata": {},
   "outputs": [
    {
     "data": {
      "text/plain": [
       "<AxesSubplot:>"
      ]
     },
     "execution_count": 196,
     "metadata": {},
     "output_type": "execute_result"
    },
    {
     "data": {
      "image/png": "[encoded data removed]",
      "text/plain": [
       "<Figure size 1600x600 with 1 Axes>"
      ]
     },
     "metadata": {},
     "output_type": "display_data"
    }
   ],
   "source": [
    "#Visualising close price\n",
    "sbi1['Close'].plot(figsize=(16,6))"
   ]
  },
  {
   "cell_type": "markdown",
   "id": "d3afc697",
   "metadata": {},
   "source": [
    "# Modelling Stock Price as a function of Sensex Data "
   ]
  },
  {
   "cell_type": "code",
   "execution_count": 197,
   "id": "5530efda",
   "metadata": {},
   "outputs": [
    {
     "data": {
      "text/html": [
       "<div>\n",
       "<style scoped>\n",
       "    .dataframe tbody tr th:only-of-type {\n",
       "        vertical-align: middle;\n",
       "    }\n",
       "\n",
       "    .dataframe tbody tr th {\n",
       "        vertical-align: top;\n",
       "    }\n",
       "\n",
       "    .dataframe thead th {\n",
       "        text-align: right;\n",
       "    }\n",
       "</style>\n",
       "<table border=\"1\" class=\"dataframe\">\n",
       "  <thead>\n",
       "    <tr style=\"text-align: right;\">\n",
       "      <th></th>\n",
       "      <th>Open</th>\n",
       "      <th>High</th>\n",
       "      <th>Low</th>\n",
       "      <th>Adj Close</th>\n",
       "    </tr>\n",
       "  </thead>\n",
       "  <tbody>\n",
       "    <tr>\n",
       "      <th>0</th>\n",
       "      <td>313.799988</td>\n",
       "      <td>318.000000</td>\n",
       "      <td>310.000000</td>\n",
       "      <td>303.520081</td>\n",
       "    </tr>\n",
       "    <tr>\n",
       "      <th>1</th>\n",
       "      <td>311.049988</td>\n",
       "      <td>318.750000</td>\n",
       "      <td>310.799988</td>\n",
       "      <td>305.227448</td>\n",
       "    </tr>\n",
       "    <tr>\n",
       "      <th>2</th>\n",
       "      <td>313.000000</td>\n",
       "      <td>316.450012</td>\n",
       "      <td>307.649994</td>\n",
       "      <td>305.129883</td>\n",
       "    </tr>\n",
       "    <tr>\n",
       "      <th>3</th>\n",
       "      <td>316.049988</td>\n",
       "      <td>317.450012</td>\n",
       "      <td>304.500000</td>\n",
       "      <td>298.105255</td>\n",
       "    </tr>\n",
       "    <tr>\n",
       "      <th>4</th>\n",
       "      <td>302.000000</td>\n",
       "      <td>305.399994</td>\n",
       "      <td>295.049988</td>\n",
       "      <td>289.666046</td>\n",
       "    </tr>\n",
       "    <tr>\n",
       "      <th>...</th>\n",
       "      <td>...</td>\n",
       "      <td>...</td>\n",
       "      <td>...</td>\n",
       "      <td>...</td>\n",
       "    </tr>\n",
       "    <tr>\n",
       "      <th>1230</th>\n",
       "      <td>591.500000</td>\n",
       "      <td>591.500000</td>\n",
       "      <td>587.799988</td>\n",
       "      <td>589.900024</td>\n",
       "    </tr>\n",
       "    <tr>\n",
       "      <th>1231</th>\n",
       "      <td>592.000000</td>\n",
       "      <td>596.500000</td>\n",
       "      <td>590.500000</td>\n",
       "      <td>592.099976</td>\n",
       "    </tr>\n",
       "    <tr>\n",
       "      <th>1232</th>\n",
       "      <td>598.150024</td>\n",
       "      <td>601.500000</td>\n",
       "      <td>592.500000</td>\n",
       "      <td>600.450012</td>\n",
       "    </tr>\n",
       "    <tr>\n",
       "      <th>1233</th>\n",
       "      <td>602.450012</td>\n",
       "      <td>604.599976</td>\n",
       "      <td>593.000000</td>\n",
       "      <td>594.349976</td>\n",
       "    </tr>\n",
       "    <tr>\n",
       "      <th>1234</th>\n",
       "      <td>595.049988</td>\n",
       "      <td>595.849976</td>\n",
       "      <td>567.299988</td>\n",
       "      <td>568.799988</td>\n",
       "    </tr>\n",
       "  </tbody>\n",
       "</table>\n",
       "<p>1235 rows × 4 columns</p>\n",
       "</div>"
      ],
      "text/plain": [
       "            Open        High         Low   Adj Close\n",
       "0     313.799988  318.000000  310.000000  303.520081\n",
       "1     311.049988  318.750000  310.799988  305.227448\n",
       "2     313.000000  316.450012  307.649994  305.129883\n",
       "3     316.049988  317.450012  304.500000  298.105255\n",
       "4     302.000000  305.399994  295.049988  289.666046\n",
       "...          ...         ...         ...         ...\n",
       "1230  591.500000  591.500000  587.799988  589.900024\n",
       "1231  592.000000  596.500000  590.500000  592.099976\n",
       "1232  598.150024  601.500000  592.500000  600.450012\n",
       "1233  602.450012  604.599976  593.000000  594.349976\n",
       "1234  595.049988  595.849976  567.299988  568.799988\n",
       "\n",
       "[1235 rows x 4 columns]"
      ]
     },
     "execution_count": 197,
     "metadata": {},
     "output_type": "execute_result"
    }
   ],
   "source": [
    "x11=sbi1[['Open','High','Low','Adj Close']]\n",
    "y11=sbi1['Close']\n",
    "x11"
   ]
  },
  {
   "cell_type": "code",
   "execution_count": 198,
   "id": "9f581830",
   "metadata": {},
   "outputs": [],
   "source": [
    "#Splitting given data into training & test data\n",
    "x11_train,x11_test,y11_train,y11_test=train_test_split(x11,y11,random_state=0)"
   ]
  },
  {
   "cell_type": "code",
   "execution_count": 199,
   "id": "526acad3",
   "metadata": {},
   "outputs": [
    {
     "name": "stdout",
     "output_type": "stream",
     "text": [
      "(926, 4)\n",
      "(309, 4)\n"
     ]
    }
   ],
   "source": [
    "#Checking size of training and test data\n",
    "print(x11_train.shape)\n",
    "print(x11_test.shape)"
   ]
  },
  {
   "cell_type": "code",
   "execution_count": 200,
   "id": "6877fa6a",
   "metadata": {},
   "outputs": [
    {
     "data": {
      "text/plain": [
       "LinearRegression()"
      ]
     },
     "execution_count": 200,
     "metadata": {},
     "output_type": "execute_result"
    }
   ],
   "source": [
    "# Fitting Linear Regression Model for \"Close Price of BSE\" vs \"Open Price,High Price,Low Price, Adj Close Price\"  \n",
    "model11=LinearRegression()\n",
    "model11.fit(x11_train,y11_train)"
   ]
  },
  {
   "cell_type": "code",
   "execution_count": 201,
   "id": "654a734f",
   "metadata": {},
   "outputs": [
    {
     "name": "stdout",
     "output_type": "stream",
     "text": [
      "[-0.30580258  0.45614665  0.34035573  0.50465908]\n",
      "4.077804682550038\n"
     ]
    }
   ],
   "source": [
    "#Printing model coefficient & intercept\n",
    "print(model11.coef_)\n",
    "print(model11.intercept_)"
   ]
  },
  {
   "cell_type": "code",
   "execution_count": 202,
   "id": "f29b9f0f",
   "metadata": {},
   "outputs": [
    {
     "data": {
      "text/plain": [
       "(309,)"
      ]
     },
     "execution_count": 202,
     "metadata": {},
     "output_type": "execute_result"
    }
   ],
   "source": [
    "# Predicting stock price with \"open price,high price,low price,adjusted close price \" as attribute for BSE sensex\n",
    "predict11=model11.predict(x11_test)\n",
    "predict11.shape"
   ]
  },
  {
   "cell_type": "code",
   "execution_count": 203,
   "id": "c10ef6ca",
   "metadata": {},
   "outputs": [
    {
     "name": "stdout",
     "output_type": "stream",
     "text": [
      "            Open        High         Low   Adj Close\n",
      "1083  442.500000  443.649994  430.799988  434.250000\n",
      "18    273.049988  277.350006  272.700012  269.372864\n",
      "1099  485.700012  491.100006  483.000000  484.799988\n",
      "818   414.000000  428.950012  412.000000  414.937592\n",
      "184   248.949997  268.750000  248.300003  261.518982\n",
      "...          ...         ...         ...         ...\n",
      "907   453.200012  464.200012  452.399994  455.939240\n",
      "801   350.000000  352.350006  341.700012  341.911316\n",
      "1089  459.500000  465.000000  458.000000  464.350006\n",
      "435   315.299988  319.250000  313.299988  310.544617\n",
      "833   420.500000  425.899994  416.700012  413.747284\n",
      "\n",
      "[309 rows x 4 columns]\n"
     ]
    }
   ],
   "source": [
    "#Priniting Test Data\n",
    "print(x11_test)"
   ]
  },
  {
   "cell_type": "code",
   "execution_count": 204,
   "id": "d09c18cc",
   "metadata": {},
   "outputs": [
    {
     "name": "stdout",
     "output_type": "stream",
     "text": [
      "      Actual Price  Predicted Price\n",
      "1083    434.250000       436.903068\n",
      "18      276.100006       275.847161\n",
      "1099    484.799988       488.613640\n",
      "818     425.299988       422.768228\n",
      "184     268.049988       267.025921\n",
      "...            ...              ...\n",
      "907     463.049988       461.302156\n",
      "801     350.450012       346.618381\n",
      "1089    464.350006       465.891079\n",
      "435     318.299988       316.635677\n",
      "833     420.200012       420.388232\n",
      "\n",
      "[309 rows x 2 columns]\n"
     ]
    }
   ],
   "source": [
    "#Printing Actual & Predicted Stock Price with \"Open Price,High Price,Low Price,Adj Close Price\" as attribute\n",
    "dfr11=pd.DataFrame({'Actual Price':y11_test,'Predicted Price':predict11})\n",
    "print(dfr11)"
   ]
  },
  {
   "cell_type": "code",
   "execution_count": 205,
   "id": "9c88dabb",
   "metadata": {},
   "outputs": [
    {
     "data": {
      "text/html": [
       "<div>\n",
       "<style scoped>\n",
       "    .dataframe tbody tr th:only-of-type {\n",
       "        vertical-align: middle;\n",
       "    }\n",
       "\n",
       "    .dataframe tbody tr th {\n",
       "        vertical-align: top;\n",
       "    }\n",
       "\n",
       "    .dataframe thead th {\n",
       "        text-align: right;\n",
       "    }\n",
       "</style>\n",
       "<table border=\"1\" class=\"dataframe\">\n",
       "  <thead>\n",
       "    <tr style=\"text-align: right;\">\n",
       "      <th></th>\n",
       "      <th>Actual Price</th>\n",
       "      <th>Predicted Price</th>\n",
       "    </tr>\n",
       "  </thead>\n",
       "  <tbody>\n",
       "    <tr>\n",
       "      <th>1083</th>\n",
       "      <td>434.250000</td>\n",
       "      <td>436.903068</td>\n",
       "    </tr>\n",
       "    <tr>\n",
       "      <th>18</th>\n",
       "      <td>276.100006</td>\n",
       "      <td>275.847161</td>\n",
       "    </tr>\n",
       "    <tr>\n",
       "      <th>1099</th>\n",
       "      <td>484.799988</td>\n",
       "      <td>488.613640</td>\n",
       "    </tr>\n",
       "    <tr>\n",
       "      <th>818</th>\n",
       "      <td>425.299988</td>\n",
       "      <td>422.768228</td>\n",
       "    </tr>\n",
       "    <tr>\n",
       "      <th>184</th>\n",
       "      <td>268.049988</td>\n",
       "      <td>267.025921</td>\n",
       "    </tr>\n",
       "    <tr>\n",
       "      <th>608</th>\n",
       "      <td>198.300003</td>\n",
       "      <td>198.559729</td>\n",
       "    </tr>\n",
       "    <tr>\n",
       "      <th>1213</th>\n",
       "      <td>601.849976</td>\n",
       "      <td>601.102175</td>\n",
       "    </tr>\n",
       "    <tr>\n",
       "      <th>717</th>\n",
       "      <td>275.149994</td>\n",
       "      <td>274.648444</td>\n",
       "    </tr>\n",
       "    <tr>\n",
       "      <th>1137</th>\n",
       "      <td>532.650024</td>\n",
       "      <td>535.369212</td>\n",
       "    </tr>\n",
       "    <tr>\n",
       "      <th>1009</th>\n",
       "      <td>474.399994</td>\n",
       "      <td>470.969006</td>\n",
       "    </tr>\n",
       "    <tr>\n",
       "      <th>1068</th>\n",
       "      <td>474.450012</td>\n",
       "      <td>476.444786</td>\n",
       "    </tr>\n",
       "    <tr>\n",
       "      <th>621</th>\n",
       "      <td>195.100006</td>\n",
       "      <td>196.046556</td>\n",
       "    </tr>\n",
       "    <tr>\n",
       "      <th>761</th>\n",
       "      <td>395.000000</td>\n",
       "      <td>392.013171</td>\n",
       "    </tr>\n",
       "    <tr>\n",
       "      <th>1018</th>\n",
       "      <td>485.899994</td>\n",
       "      <td>483.121991</td>\n",
       "    </tr>\n",
       "    <tr>\n",
       "      <th>5</th>\n",
       "      <td>297.700012</td>\n",
       "      <td>296.624961</td>\n",
       "    </tr>\n",
       "    <tr>\n",
       "      <th>472</th>\n",
       "      <td>333.750000</td>\n",
       "      <td>332.252416</td>\n",
       "    </tr>\n",
       "    <tr>\n",
       "      <th>45</th>\n",
       "      <td>259.799988</td>\n",
       "      <td>258.398460</td>\n",
       "    </tr>\n",
       "    <tr>\n",
       "      <th>194</th>\n",
       "      <td>278.149994</td>\n",
       "      <td>277.236921</td>\n",
       "    </tr>\n",
       "    <tr>\n",
       "      <th>311</th>\n",
       "      <td>299.250000</td>\n",
       "      <td>298.018680</td>\n",
       "    </tr>\n",
       "    <tr>\n",
       "      <th>989</th>\n",
       "      <td>532.250000</td>\n",
       "      <td>527.395224</td>\n",
       "    </tr>\n",
       "    <tr>\n",
       "      <th>85</th>\n",
       "      <td>263.100006</td>\n",
       "      <td>263.138239</td>\n",
       "    </tr>\n",
       "    <tr>\n",
       "      <th>789</th>\n",
       "      <td>340.950012</td>\n",
       "      <td>339.383164</td>\n",
       "    </tr>\n",
       "    <tr>\n",
       "      <th>1138</th>\n",
       "      <td>544.700012</td>\n",
       "      <td>546.644452</td>\n",
       "    </tr>\n",
       "    <tr>\n",
       "      <th>853</th>\n",
       "      <td>431.649994</td>\n",
       "      <td>430.197507</td>\n",
       "    </tr>\n",
       "    <tr>\n",
       "      <th>302</th>\n",
       "      <td>310.700012</td>\n",
       "      <td>308.754980</td>\n",
       "    </tr>\n",
       "  </tbody>\n",
       "</table>\n",
       "</div>"
      ],
      "text/plain": [
       "      Actual Price  Predicted Price\n",
       "1083    434.250000       436.903068\n",
       "18      276.100006       275.847161\n",
       "1099    484.799988       488.613640\n",
       "818     425.299988       422.768228\n",
       "184     268.049988       267.025921\n",
       "608     198.300003       198.559729\n",
       "1213    601.849976       601.102175\n",
       "717     275.149994       274.648444\n",
       "1137    532.650024       535.369212\n",
       "1009    474.399994       470.969006\n",
       "1068    474.450012       476.444786\n",
       "621     195.100006       196.046556\n",
       "761     395.000000       392.013171\n",
       "1018    485.899994       483.121991\n",
       "5       297.700012       296.624961\n",
       "472     333.750000       332.252416\n",
       "45      259.799988       258.398460\n",
       "194     278.149994       277.236921\n",
       "311     299.250000       298.018680\n",
       "989     532.250000       527.395224\n",
       "85      263.100006       263.138239\n",
       "789     340.950012       339.383164\n",
       "1138    544.700012       546.644452\n",
       "853     431.649994       430.197507\n",
       "302     310.700012       308.754980"
      ]
     },
     "execution_count": 205,
     "metadata": {},
     "output_type": "execute_result"
    }
   ],
   "source": [
    "#Printing first 25 values of actual vs predicted stock price\n",
    "dfr11.head(25)"
   ]
  },
  {
   "cell_type": "code",
   "execution_count": 206,
   "id": "25f3fbef",
   "metadata": {},
   "outputs": [
    {
     "name": "stdout",
     "output_type": "stream",
     "text": [
      "R2 score of model: 99.97814742893141 %\n",
      "Mean Absolute Error: 1.386022775483708\n",
      "Mean Squared Error: 3.1119364957148323\n"
     ]
    }
   ],
   "source": [
    "#Finding r2 score,mean absolute error and mean squared error of developed model \n",
    "score11=model11.score(x11_test,y11_test)*100\n",
    "print('R2 score of model:',score11,'%')\n",
    "ae11=metrics.mean_absolute_error(y11_test,predict11)\n",
    "print('Mean Absolute Error:',ae11)\n",
    "se11=metrics.mean_squared_error(y11_test,predict11)\n",
    "print('Mean Squared Error:',se11)"
   ]
  },
  {
   "cell_type": "code",
   "execution_count": 209,
   "id": "c2447c47",
   "metadata": {},
   "outputs": [
    {
     "data": {
      "text/plain": [
       "<AxesSubplot:>"
      ]
     },
     "execution_count": 209,
     "metadata": {},
     "output_type": "execute_result"
    },
    {
     "data": {
      "image/png": "[encoded data removed]",
      "text/plain": [
       "<Figure size 640x480 with 1 Axes>"
      ]
     },
     "metadata": {},
     "output_type": "display_data"
    }
   ],
   "source": [
    "#Plotting actual price & predicted price in form of bar graph\n",
    "graph11=dfr11.head(20)\n",
    "graph11.plot(kind='bar')"
   ]
  },
  {
   "cell_type": "markdown",
   "id": "e95420b0",
   "metadata": {},
   "source": [
    "# (B) PREDICT STOCK PRICES USING LINEAR REGRESSION (PART 2)"
   ]
  },
  {
   "cell_type": "code",
   "execution_count": 3,
   "id": "597b95c1",
   "metadata": {},
   "outputs": [],
   "source": [
    "#Reading CANARA bank bombay stock exchange (sensex) data of last 5 years\n",
    "\n",
    "canara=pd.read_csv(\"CANBK.BO.csv\")"
   ]
  },
  {
   "cell_type": "code",
   "execution_count": 5,
   "id": "5e83beca",
   "metadata": {},
   "outputs": [
    {
     "data": {
      "text/html": [
       "<div>\n",
       "<style scoped>\n",
       "    .dataframe tbody tr th:only-of-type {\n",
       "        vertical-align: middle;\n",
       "    }\n",
       "\n",
       "    .dataframe tbody tr th {\n",
       "        vertical-align: top;\n",
       "    }\n",
       "\n",
       "    .dataframe thead th {\n",
       "        text-align: right;\n",
       "    }\n",
       "</style>\n",
       "<table border=\"1\" class=\"dataframe\">\n",
       "  <thead>\n",
       "    <tr style=\"text-align: right;\">\n",
       "      <th></th>\n",
       "      <th>Date</th>\n",
       "      <th>Open</th>\n",
       "      <th>High</th>\n",
       "      <th>Low</th>\n",
       "      <th>Close</th>\n",
       "      <th>Adj Close</th>\n",
       "      <th>Volume</th>\n",
       "    </tr>\n",
       "  </thead>\n",
       "  <tbody>\n",
       "    <tr>\n",
       "      <th>0</th>\n",
       "      <td>2018-01-29</td>\n",
       "      <td>364.500000</td>\n",
       "      <td>364.500000</td>\n",
       "      <td>341.049988</td>\n",
       "      <td>344.100006</td>\n",
       "      <td>332.755096</td>\n",
       "      <td>288461</td>\n",
       "    </tr>\n",
       "    <tr>\n",
       "      <th>1</th>\n",
       "      <td>2018-01-30</td>\n",
       "      <td>340.200012</td>\n",
       "      <td>353.350006</td>\n",
       "      <td>340.200012</td>\n",
       "      <td>348.450012</td>\n",
       "      <td>336.961670</td>\n",
       "      <td>191045</td>\n",
       "    </tr>\n",
       "    <tr>\n",
       "      <th>2</th>\n",
       "      <td>2018-01-31</td>\n",
       "      <td>348.500000</td>\n",
       "      <td>351.850006</td>\n",
       "      <td>338.899994</td>\n",
       "      <td>341.250000</td>\n",
       "      <td>329.999054</td>\n",
       "      <td>222265</td>\n",
       "    </tr>\n",
       "    <tr>\n",
       "      <th>3</th>\n",
       "      <td>2018-02-01</td>\n",
       "      <td>343.000000</td>\n",
       "      <td>360.000000</td>\n",
       "      <td>329.350006</td>\n",
       "      <td>330.200012</td>\n",
       "      <td>319.313385</td>\n",
       "      <td>323084</td>\n",
       "    </tr>\n",
       "    <tr>\n",
       "      <th>4</th>\n",
       "      <td>2018-02-02</td>\n",
       "      <td>325.000000</td>\n",
       "      <td>327.000000</td>\n",
       "      <td>308.799988</td>\n",
       "      <td>311.200012</td>\n",
       "      <td>300.939789</td>\n",
       "      <td>700045</td>\n",
       "    </tr>\n",
       "  </tbody>\n",
       "</table>\n",
       "</div>"
      ],
      "text/plain": [
       "         Date        Open        High         Low       Close   Adj Close  \\\n",
       "0  2018-01-29  364.500000  364.500000  341.049988  344.100006  332.755096   \n",
       "1  2018-01-30  340.200012  353.350006  340.200012  348.450012  336.961670   \n",
       "2  2018-01-31  348.500000  351.850006  338.899994  341.250000  329.999054   \n",
       "3  2018-02-01  343.000000  360.000000  329.350006  330.200012  319.313385   \n",
       "4  2018-02-02  325.000000  327.000000  308.799988  311.200012  300.939789   \n",
       "\n",
       "   Volume  \n",
       "0  288461  \n",
       "1  191045  \n",
       "2  222265  \n",
       "3  323084  \n",
       "4  700045  "
      ]
     },
     "execution_count": 5,
     "metadata": {},
     "output_type": "execute_result"
    }
   ],
   "source": [
    "#Data visualisation\n",
    "\n",
    "canara.head()"
   ]
  },
  {
   "cell_type": "code",
   "execution_count": 6,
   "id": "dbea614c",
   "metadata": {},
   "outputs": [
    {
     "name": "stdout",
     "output_type": "stream",
     "text": [
      "No. of rows are : 1235\n",
      "No. of columns are: 7\n"
     ]
    }
   ],
   "source": [
    "#Checking number of rows and columns in given data\n",
    "\n",
    "rows22=canara.shape[0]\n",
    "col22=canara.shape[1]\n",
    "\n",
    "print(\"No. of rows are :\",rows22)\n",
    "print(\"No. of columns are:\",col22)"
   ]
  },
  {
   "cell_type": "code",
   "execution_count": 7,
   "id": "8387f475",
   "metadata": {},
   "outputs": [
    {
     "name": "stdout",
     "output_type": "stream",
     "text": [
      "<class 'pandas.core.frame.DataFrame'>\n",
      "RangeIndex: 1235 entries, 0 to 1234\n",
      "Data columns (total 7 columns):\n",
      " #   Column     Non-Null Count  Dtype  \n",
      "---  ------     --------------  -----  \n",
      " 0   Date       1235 non-null   object \n",
      " 1   Open       1235 non-null   float64\n",
      " 2   High       1235 non-null   float64\n",
      " 3   Low        1235 non-null   float64\n",
      " 4   Close      1235 non-null   float64\n",
      " 5   Adj Close  1235 non-null   float64\n",
      " 6   Volume     1235 non-null   int64  \n",
      "dtypes: float64(5), int64(1), object(1)\n",
      "memory usage: 67.7+ KB\n"
     ]
    }
   ],
   "source": [
    "#Getting information about given data\n",
    "canara.info()"
   ]
  },
  {
   "cell_type": "code",
   "execution_count": 8,
   "id": "44c5be13",
   "metadata": {},
   "outputs": [
    {
     "data": {
      "text/html": [
       "<div>\n",
       "<style scoped>\n",
       "    .dataframe tbody tr th:only-of-type {\n",
       "        vertical-align: middle;\n",
       "    }\n",
       "\n",
       "    .dataframe tbody tr th {\n",
       "        vertical-align: top;\n",
       "    }\n",
       "\n",
       "    .dataframe thead th {\n",
       "        text-align: right;\n",
       "    }\n",
       "</style>\n",
       "<table border=\"1\" class=\"dataframe\">\n",
       "  <thead>\n",
       "    <tr style=\"text-align: right;\">\n",
       "      <th></th>\n",
       "      <th>Open</th>\n",
       "      <th>High</th>\n",
       "      <th>Low</th>\n",
       "      <th>Close</th>\n",
       "      <th>Adj Close</th>\n",
       "      <th>Volume</th>\n",
       "    </tr>\n",
       "  </thead>\n",
       "  <tbody>\n",
       "    <tr>\n",
       "      <th>count</th>\n",
       "      <td>1235.000000</td>\n",
       "      <td>1235.000000</td>\n",
       "      <td>1235.000000</td>\n",
       "      <td>1235.000000</td>\n",
       "      <td>1235.000000</td>\n",
       "      <td>1.235000e+03</td>\n",
       "    </tr>\n",
       "    <tr>\n",
       "      <th>mean</th>\n",
       "      <td>205.616437</td>\n",
       "      <td>209.411619</td>\n",
       "      <td>201.338664</td>\n",
       "      <td>205.158948</td>\n",
       "      <td>199.478209</td>\n",
       "      <td>6.665128e+05</td>\n",
       "    </tr>\n",
       "    <tr>\n",
       "      <th>std</th>\n",
       "      <td>66.272819</td>\n",
       "      <td>67.205726</td>\n",
       "      <td>65.177786</td>\n",
       "      <td>66.176439</td>\n",
       "      <td>65.126937</td>\n",
       "      <td>6.459586e+05</td>\n",
       "    </tr>\n",
       "    <tr>\n",
       "      <th>min</th>\n",
       "      <td>76.599998</td>\n",
       "      <td>78.199997</td>\n",
       "      <td>73.849998</td>\n",
       "      <td>76.250000</td>\n",
       "      <td>73.736053</td>\n",
       "      <td>0.000000e+00</td>\n",
       "    </tr>\n",
       "    <tr>\n",
       "      <th>25%</th>\n",
       "      <td>153.974998</td>\n",
       "      <td>156.149994</td>\n",
       "      <td>151.224998</td>\n",
       "      <td>153.575005</td>\n",
       "      <td>148.511665</td>\n",
       "      <td>3.083695e+05</td>\n",
       "    </tr>\n",
       "    <tr>\n",
       "      <th>50%</th>\n",
       "      <td>218.100006</td>\n",
       "      <td>222.899994</td>\n",
       "      <td>213.649994</td>\n",
       "      <td>218.399994</td>\n",
       "      <td>211.924652</td>\n",
       "      <td>4.574530e+05</td>\n",
       "    </tr>\n",
       "    <tr>\n",
       "      <th>75%</th>\n",
       "      <td>257.000000</td>\n",
       "      <td>262.174988</td>\n",
       "      <td>251.600006</td>\n",
       "      <td>256.474991</td>\n",
       "      <td>248.562546</td>\n",
       "      <td>7.701460e+05</td>\n",
       "    </tr>\n",
       "    <tr>\n",
       "      <th>max</th>\n",
       "      <td>364.500000</td>\n",
       "      <td>364.500000</td>\n",
       "      <td>341.049988</td>\n",
       "      <td>348.450012</td>\n",
       "      <td>336.961670</td>\n",
       "      <td>8.742660e+06</td>\n",
       "    </tr>\n",
       "  </tbody>\n",
       "</table>\n",
       "</div>"
      ],
      "text/plain": [
       "              Open         High          Low        Close    Adj Close  \\\n",
       "count  1235.000000  1235.000000  1235.000000  1235.000000  1235.000000   \n",
       "mean    205.616437   209.411619   201.338664   205.158948   199.478209   \n",
       "std      66.272819    67.205726    65.177786    66.176439    65.126937   \n",
       "min      76.599998    78.199997    73.849998    76.250000    73.736053   \n",
       "25%     153.974998   156.149994   151.224998   153.575005   148.511665   \n",
       "50%     218.100006   222.899994   213.649994   218.399994   211.924652   \n",
       "75%     257.000000   262.174988   251.600006   256.474991   248.562546   \n",
       "max     364.500000   364.500000   341.049988   348.450012   336.961670   \n",
       "\n",
       "             Volume  \n",
       "count  1.235000e+03  \n",
       "mean   6.665128e+05  \n",
       "std    6.459586e+05  \n",
       "min    0.000000e+00  \n",
       "25%    3.083695e+05  \n",
       "50%    4.574530e+05  \n",
       "75%    7.701460e+05  \n",
       "max    8.742660e+06  "
      ]
     },
     "execution_count": 8,
     "metadata": {},
     "output_type": "execute_result"
    }
   ],
   "source": [
    "#Describing given data\n",
    "canara.describe()"
   ]
  },
  {
   "cell_type": "code",
   "execution_count": 9,
   "id": "1e3b6d98",
   "metadata": {},
   "outputs": [
    {
     "data": {
      "text/plain": [
       "<AxesSubplot:>"
      ]
     },
     "execution_count": 9,
     "metadata": {},
     "output_type": "execute_result"
    },
    {
     "data": {
      "image/png": "[encoded data removed]",
      "text/plain": [
       "<Figure size 1600x600 with 1 Axes>"
      ]
     },
     "metadata": {},
     "output_type": "display_data"
    }
   ],
   "source": [
    "#Visualising open price\n",
    "canara['Open'].plot(figsize=(16,6))"
   ]
  },
  {
   "cell_type": "code",
   "execution_count": 10,
   "id": "084ab738",
   "metadata": {},
   "outputs": [
    {
     "data": {
      "text/plain": [
       "<AxesSubplot:>"
      ]
     },
     "execution_count": 10,
     "metadata": {},
     "output_type": "execute_result"
    },
    {
     "data": {
      "image/png": "[encoded data removed]",
      "text/plain": [
       "<Figure size 1600x600 with 1 Axes>"
      ]
     },
     "metadata": {},
     "output_type": "display_data"
    }
   ],
   "source": [
    "#Visualising close price\n",
    "canara['Close'].plot(figsize=(16,6))"
   ]
  },
  {
   "cell_type": "code",
   "execution_count": 11,
   "id": "61092600",
   "metadata": {},
   "outputs": [
    {
     "data": {
      "text/html": [
       "<div>\n",
       "<style scoped>\n",
       "    .dataframe tbody tr th:only-of-type {\n",
       "        vertical-align: middle;\n",
       "    }\n",
       "\n",
       "    .dataframe tbody tr th {\n",
       "        vertical-align: top;\n",
       "    }\n",
       "\n",
       "    .dataframe thead th {\n",
       "        text-align: right;\n",
       "    }\n",
       "</style>\n",
       "<table border=\"1\" class=\"dataframe\">\n",
       "  <thead>\n",
       "    <tr style=\"text-align: right;\">\n",
       "      <th></th>\n",
       "      <th>Open</th>\n",
       "      <th>High</th>\n",
       "      <th>Low</th>\n",
       "      <th>Adj Close</th>\n",
       "    </tr>\n",
       "  </thead>\n",
       "  <tbody>\n",
       "    <tr>\n",
       "      <th>0</th>\n",
       "      <td>364.500000</td>\n",
       "      <td>364.500000</td>\n",
       "      <td>341.049988</td>\n",
       "      <td>332.755096</td>\n",
       "    </tr>\n",
       "    <tr>\n",
       "      <th>1</th>\n",
       "      <td>340.200012</td>\n",
       "      <td>353.350006</td>\n",
       "      <td>340.200012</td>\n",
       "      <td>336.961670</td>\n",
       "    </tr>\n",
       "    <tr>\n",
       "      <th>2</th>\n",
       "      <td>348.500000</td>\n",
       "      <td>351.850006</td>\n",
       "      <td>338.899994</td>\n",
       "      <td>329.999054</td>\n",
       "    </tr>\n",
       "    <tr>\n",
       "      <th>3</th>\n",
       "      <td>343.000000</td>\n",
       "      <td>360.000000</td>\n",
       "      <td>329.350006</td>\n",
       "      <td>319.313385</td>\n",
       "    </tr>\n",
       "    <tr>\n",
       "      <th>4</th>\n",
       "      <td>325.000000</td>\n",
       "      <td>327.000000</td>\n",
       "      <td>308.799988</td>\n",
       "      <td>300.939789</td>\n",
       "    </tr>\n",
       "    <tr>\n",
       "      <th>...</th>\n",
       "      <td>...</td>\n",
       "      <td>...</td>\n",
       "      <td>...</td>\n",
       "      <td>...</td>\n",
       "    </tr>\n",
       "    <tr>\n",
       "      <th>1230</th>\n",
       "      <td>316.149994</td>\n",
       "      <td>321.200012</td>\n",
       "      <td>314.500000</td>\n",
       "      <td>320.149994</td>\n",
       "    </tr>\n",
       "    <tr>\n",
       "      <th>1231</th>\n",
       "      <td>320.500000</td>\n",
       "      <td>326.200012</td>\n",
       "      <td>318.149994</td>\n",
       "      <td>318.899994</td>\n",
       "    </tr>\n",
       "    <tr>\n",
       "      <th>1232</th>\n",
       "      <td>322.399994</td>\n",
       "      <td>326.500000</td>\n",
       "      <td>319.600006</td>\n",
       "      <td>323.100006</td>\n",
       "    </tr>\n",
       "    <tr>\n",
       "      <th>1233</th>\n",
       "      <td>324.100006</td>\n",
       "      <td>328.000000</td>\n",
       "      <td>318.250000</td>\n",
       "      <td>319.700012</td>\n",
       "    </tr>\n",
       "    <tr>\n",
       "      <th>1234</th>\n",
       "      <td>319.750000</td>\n",
       "      <td>320.399994</td>\n",
       "      <td>302.149994</td>\n",
       "      <td>306.100006</td>\n",
       "    </tr>\n",
       "  </tbody>\n",
       "</table>\n",
       "<p>1235 rows × 4 columns</p>\n",
       "</div>"
      ],
      "text/plain": [
       "            Open        High         Low   Adj Close\n",
       "0     364.500000  364.500000  341.049988  332.755096\n",
       "1     340.200012  353.350006  340.200012  336.961670\n",
       "2     348.500000  351.850006  338.899994  329.999054\n",
       "3     343.000000  360.000000  329.350006  319.313385\n",
       "4     325.000000  327.000000  308.799988  300.939789\n",
       "...          ...         ...         ...         ...\n",
       "1230  316.149994  321.200012  314.500000  320.149994\n",
       "1231  320.500000  326.200012  318.149994  318.899994\n",
       "1232  322.399994  326.500000  319.600006  323.100006\n",
       "1233  324.100006  328.000000  318.250000  319.700012\n",
       "1234  319.750000  320.399994  302.149994  306.100006\n",
       "\n",
       "[1235 rows x 4 columns]"
      ]
     },
     "execution_count": 11,
     "metadata": {},
     "output_type": "execute_result"
    }
   ],
   "source": [
    "x22=canara[['Open','High','Low','Adj Close']]\n",
    "y22=canara['Close']\n",
    "x22"
   ]
  },
  {
   "cell_type": "code",
   "execution_count": 12,
   "id": "60e9f54e",
   "metadata": {},
   "outputs": [],
   "source": [
    "#Splitting given data into training & test data\n",
    "x22_train,x22_test,y22_train,y22_test=train_test_split(x22,y22,random_state=0)"
   ]
  },
  {
   "cell_type": "code",
   "execution_count": 13,
   "id": "b30a7677",
   "metadata": {},
   "outputs": [
    {
     "name": "stdout",
     "output_type": "stream",
     "text": [
      "(926, 4)\n",
      "(309, 4)\n"
     ]
    }
   ],
   "source": [
    "#Checking size of training and test data\n",
    "print(x22_train.shape)\n",
    "print(x22_test.shape)"
   ]
  },
  {
   "cell_type": "code",
   "execution_count": 14,
   "id": "bba52e14",
   "metadata": {},
   "outputs": [
    {
     "data": {
      "text/plain": [
       "LinearRegression()"
      ]
     },
     "execution_count": 14,
     "metadata": {},
     "output_type": "execute_result"
    }
   ],
   "source": [
    "# Fitting Linear Regression Model for \"Close Price of BSE of Canara Bank\" vs \"Open Price,High Price,Low Price, Adj Close Price\"  \n",
    "model22=LinearRegression()\n",
    "model22.fit(x22_train,y22_train)"
   ]
  },
  {
   "cell_type": "code",
   "execution_count": 15,
   "id": "e1a19c07",
   "metadata": {},
   "outputs": [
    {
     "name": "stdout",
     "output_type": "stream",
     "text": [
      "[-0.32933435  0.54210951  0.38916704  0.40207537]\n",
      "0.7931616725591937\n"
     ]
    }
   ],
   "source": [
    "#Printing model coefficient & intercept\n",
    "print(model22.coef_)\n",
    "print(model22.intercept_)"
   ]
  },
  {
   "cell_type": "code",
   "execution_count": 16,
   "id": "e55fdcc3",
   "metadata": {},
   "outputs": [
    {
     "data": {
      "text/plain": [
       "(309,)"
      ]
     },
     "execution_count": 16,
     "metadata": {},
     "output_type": "execute_result"
    }
   ],
   "source": [
    "# Predicting stock price with \"open price,high price,low price,adjusted close price \" as attribute for BSE sensex\n",
    "predict22=model22.predict(x22_test)\n",
    "predict22.shape"
   ]
  },
  {
   "cell_type": "code",
   "execution_count": 17,
   "id": "1f59c9f7",
   "metadata": {},
   "outputs": [
    {
     "name": "stdout",
     "output_type": "stream",
     "text": [
      "            Open        High         Low   Adj Close\n",
      "1083  181.550003  183.000000  171.699997  174.449997\n",
      "18    309.450012  316.299988  309.450012  303.454041\n",
      "1099  215.250000  221.350006  214.199997  216.600006\n",
      "818   151.000000  155.250000  148.750000  148.535843\n",
      "184   213.000000  240.000000  212.000000  230.443298\n",
      "...          ...         ...         ...         ...\n",
      "907   177.899994  182.899994  177.399994  176.096207\n",
      "801   136.199997  139.800003  135.800003  134.127075\n",
      "1089  187.949997  189.000000  186.649994  187.800003\n",
      "435   201.600006  204.000000  199.149994  196.887344\n",
      "833   151.699997  154.300003  149.550003  146.360016\n",
      "\n",
      "[309 rows x 4 columns]\n"
     ]
    }
   ],
   "source": [
    "#Priniting Test Data\n",
    "print(x22_test)"
   ]
  },
  {
   "cell_type": "code",
   "execution_count": 18,
   "id": "41736657",
   "metadata": {},
   "outputs": [
    {
     "name": "stdout",
     "output_type": "stream",
     "text": [
      "      Actual Price  Predicted Price\n",
      "1083    174.449997       177.170577\n",
      "18      313.799988       312.789016\n",
      "1099    216.600006       220.348993\n",
      "818     153.600006       152.837378\n",
      "184     238.300003       235.910215\n",
      "...            ...              ...\n",
      "907     182.100006       181.198587\n",
      "801     138.699997       138.502814\n",
      "1089    187.800003       189.501251\n",
      "435     203.600006       201.655861\n",
      "833     151.350006       151.528331\n",
      "\n",
      "[309 rows x 2 columns]\n"
     ]
    }
   ],
   "source": [
    "#Printing Actual & Predicted Stock Price with \"Open Price,High Price,Low Price,Adj Close Price\" as attribute\n",
    "dfr22=pd.DataFrame({'Actual Price':y22_test,'Predicted Price':predict22})\n",
    "print(dfr22)"
   ]
  },
  {
   "cell_type": "code",
   "execution_count": 19,
   "id": "45196cd1",
   "metadata": {},
   "outputs": [
    {
     "data": {
      "text/html": [
       "<div>\n",
       "<style scoped>\n",
       "    .dataframe tbody tr th:only-of-type {\n",
       "        vertical-align: middle;\n",
       "    }\n",
       "\n",
       "    .dataframe tbody tr th {\n",
       "        vertical-align: top;\n",
       "    }\n",
       "\n",
       "    .dataframe thead th {\n",
       "        text-align: right;\n",
       "    }\n",
       "</style>\n",
       "<table border=\"1\" class=\"dataframe\">\n",
       "  <thead>\n",
       "    <tr style=\"text-align: right;\">\n",
       "      <th></th>\n",
       "      <th>Actual Price</th>\n",
       "      <th>Predicted Price</th>\n",
       "    </tr>\n",
       "  </thead>\n",
       "  <tbody>\n",
       "    <tr>\n",
       "      <th>1083</th>\n",
       "      <td>174.449997</td>\n",
       "      <td>177.170577</td>\n",
       "    </tr>\n",
       "    <tr>\n",
       "      <th>18</th>\n",
       "      <td>313.799988</td>\n",
       "      <td>312.789016</td>\n",
       "    </tr>\n",
       "    <tr>\n",
       "      <th>1099</th>\n",
       "      <td>216.600006</td>\n",
       "      <td>220.348993</td>\n",
       "    </tr>\n",
       "    <tr>\n",
       "      <th>818</th>\n",
       "      <td>153.600006</td>\n",
       "      <td>152.837378</td>\n",
       "    </tr>\n",
       "    <tr>\n",
       "      <th>184</th>\n",
       "      <td>238.300003</td>\n",
       "      <td>235.910215</td>\n",
       "    </tr>\n",
       "    <tr>\n",
       "      <th>608</th>\n",
       "      <td>102.250000</td>\n",
       "      <td>102.416415</td>\n",
       "    </tr>\n",
       "    <tr>\n",
       "      <th>1213</th>\n",
       "      <td>307.000000</td>\n",
       "      <td>307.014946</td>\n",
       "    </tr>\n",
       "    <tr>\n",
       "      <th>717</th>\n",
       "      <td>125.250000</td>\n",
       "      <td>124.489645</td>\n",
       "    </tr>\n",
       "    <tr>\n",
       "      <th>1137</th>\n",
       "      <td>241.000000</td>\n",
       "      <td>243.567187</td>\n",
       "    </tr>\n",
       "    <tr>\n",
       "      <th>1009</th>\n",
       "      <td>215.850006</td>\n",
       "      <td>214.150258</td>\n",
       "    </tr>\n",
       "    <tr>\n",
       "      <th>1068</th>\n",
       "      <td>209.000000</td>\n",
       "      <td>207.413811</td>\n",
       "    </tr>\n",
       "    <tr>\n",
       "      <th>621</th>\n",
       "      <td>101.349998</td>\n",
       "      <td>101.332097</td>\n",
       "    </tr>\n",
       "    <tr>\n",
       "      <th>761</th>\n",
       "      <td>156.800003</td>\n",
       "      <td>156.227718</td>\n",
       "    </tr>\n",
       "    <tr>\n",
       "      <th>1018</th>\n",
       "      <td>219.100006</td>\n",
       "      <td>220.575906</td>\n",
       "    </tr>\n",
       "    <tr>\n",
       "      <th>5</th>\n",
       "      <td>317.350006</td>\n",
       "      <td>311.729536</td>\n",
       "    </tr>\n",
       "    <tr>\n",
       "      <th>472</th>\n",
       "      <td>221.649994</td>\n",
       "      <td>221.860721</td>\n",
       "    </tr>\n",
       "    <tr>\n",
       "      <th>45</th>\n",
       "      <td>285.850006</td>\n",
       "      <td>282.689548</td>\n",
       "    </tr>\n",
       "    <tr>\n",
       "      <th>194</th>\n",
       "      <td>243.449997</td>\n",
       "      <td>241.899236</td>\n",
       "    </tr>\n",
       "    <tr>\n",
       "      <th>311</th>\n",
       "      <td>257.200012</td>\n",
       "      <td>256.654094</td>\n",
       "    </tr>\n",
       "    <tr>\n",
       "      <th>989</th>\n",
       "      <td>258.700012</td>\n",
       "      <td>254.485496</td>\n",
       "    </tr>\n",
       "    <tr>\n",
       "      <th>85</th>\n",
       "      <td>253.350006</td>\n",
       "      <td>254.118448</td>\n",
       "    </tr>\n",
       "    <tr>\n",
       "      <th>789</th>\n",
       "      <td>137.350006</td>\n",
       "      <td>135.774620</td>\n",
       "    </tr>\n",
       "    <tr>\n",
       "      <th>1138</th>\n",
       "      <td>244.949997</td>\n",
       "      <td>247.575226</td>\n",
       "    </tr>\n",
       "    <tr>\n",
       "      <th>853</th>\n",
       "      <td>150.600006</td>\n",
       "      <td>149.932075</td>\n",
       "    </tr>\n",
       "    <tr>\n",
       "      <th>302</th>\n",
       "      <td>273.399994</td>\n",
       "      <td>269.895579</td>\n",
       "    </tr>\n",
       "  </tbody>\n",
       "</table>\n",
       "</div>"
      ],
      "text/plain": [
       "      Actual Price  Predicted Price\n",
       "1083    174.449997       177.170577\n",
       "18      313.799988       312.789016\n",
       "1099    216.600006       220.348993\n",
       "818     153.600006       152.837378\n",
       "184     238.300003       235.910215\n",
       "608     102.250000       102.416415\n",
       "1213    307.000000       307.014946\n",
       "717     125.250000       124.489645\n",
       "1137    241.000000       243.567187\n",
       "1009    215.850006       214.150258\n",
       "1068    209.000000       207.413811\n",
       "621     101.349998       101.332097\n",
       "761     156.800003       156.227718\n",
       "1018    219.100006       220.575906\n",
       "5       317.350006       311.729536\n",
       "472     221.649994       221.860721\n",
       "45      285.850006       282.689548\n",
       "194     243.449997       241.899236\n",
       "311     257.200012       256.654094\n",
       "989     258.700012       254.485496\n",
       "85      253.350006       254.118448\n",
       "789     137.350006       135.774620\n",
       "1138    244.949997       247.575226\n",
       "853     150.600006       149.932075\n",
       "302     273.399994       269.895579"
      ]
     },
     "execution_count": 19,
     "metadata": {},
     "output_type": "execute_result"
    }
   ],
   "source": [
    "#Printing first 25 values of actual vs predicted stock price\n",
    "dfr22.head(25)"
   ]
  },
  {
   "cell_type": "code",
   "execution_count": 20,
   "id": "b8688678",
   "metadata": {},
   "outputs": [
    {
     "name": "stdout",
     "output_type": "stream",
     "text": [
      "R2 score of model: 99.93194219426846 %\n",
      "Mean Absolute Error: 1.2544950697086406\n",
      "Mean Squared Error: 2.8453434772639654\n"
     ]
    }
   ],
   "source": [
    "#Finding r2 score,mean absolute error and mean squared error of developed model \n",
    "score22=model22.score(x22_test,y22_test)*100\n",
    "print('R2 score of model:',score22,'%')\n",
    "ae22=metrics.mean_absolute_error(y22_test,predict22)\n",
    "print('Mean Absolute Error:',ae22)\n",
    "se22=metrics.mean_squared_error(y22_test,predict22)\n",
    "print('Mean Squared Error:',se22)"
   ]
  },
  {
   "cell_type": "code",
   "execution_count": 21,
   "id": "74ff5b21",
   "metadata": {},
   "outputs": [
    {
     "data": {
      "text/plain": [
       "<AxesSubplot:>"
      ]
     },
     "execution_count": 21,
     "metadata": {},
     "output_type": "execute_result"
    },
    {
     "data": {
      "image/png": "[encoded data removed]",
      "text/plain": [
       "<Figure size 640x480 with 1 Axes>"
      ]
     },
     "metadata": {},
     "output_type": "display_data"
    }
   ],
   "source": [
    "#Plotting actual price & predicted price in form of bar graph\n",
    "graph22=dfr22.head(20)\n",
    "graph22.plot(kind='bar')"
   ]
  },
  {
   "cell_type": "markdown",
   "id": "fc4655a8",
   "metadata": {},
   "source": [
    "# STATISTICAL INFERENCES & RESULTS"
   ]
  },
  {
   "cell_type": "code",
   "execution_count": null,
   "id": "3f9fdef1",
   "metadata": {},
   "outputs": [],
   "source": [
    "# 1) R2 SCORE, MEAN ABSOLUTE ERROR AND MEAN SQUARE ERROR HAVE BEEN USED HERE TO EVALUATE THE DEVELOPED LINEAR REGRESSION MODELS.\n",
    "\n",
    "# 2) STOCK PRICE (OR CLOSE PRICE) OF ANY STOCK PRIMARLY DEPENDS ON ATTRIBUTES LIKE OPEN PRICE, HIGH PRICE, LOW PRICE, ADJUSTED CLOSING PRICE AND VOLUME OF STOCK.\n",
    "\n",
    "# 3) AFTER ANALYSIS OF DIFFERENT ATTRIBUTES, IT CAN BE CONCLUDED THAT \"ADJUSTED CLOSING PRICE\" IS THE BEST FIT ATTRIBUTE FOR PREDICTION OF STOCK PRICE AND \"VOLUME OF STOCK\" IS THE WORST FIT ATTRIBUTE FOR PREDICTION OF STOCK.\n",
    "\n",
    "# 4) ERROR IS MORE AND ACCURACY IS LESS ON USING SINGLE ATTRIBUTE FOR DEVELOPING LINEAR REGRESSION MODEL.\n",
    "\n",
    "# 5) WHEN MORE THAN ONE ATTRIBUTES HAVE BEEN USED TO TRAIN LINEAR REGRESSION MODEL, ACCURACY HAS SHOWN SATISFACTORY IMPROVEMENT.\n",
    "\n",
    "# 6) ACCURACY CAN BE FURTHER IMPROVED BY IDENTIFYING AND REMOVING OUTLIERS OR BY TAKING MORE TRAINING DATA.\n",
    "\n",
    "# 7) THERE IS VERY LESS EFFECT OF VOLUME ON THE STOCK PRICE OF DATA.\n",
    "\n",
    "# 8) OPEN PRICE, HIGH PRICE, LOW PRICE & ADJUSTED CLOSE PRICE SIGNIFICANTLY AFFECT THE STOCK PRICE OF DATA WITH ADJUSTED CLOSE PRICE HAVING THE HIGHEST EFFECT.\n"
   ]
  }
 ],
 "metadata": {
  "kernelspec": {
   "display_name": "Python 3 (ipykernel)",
   "language": "python",
   "name": "python3"
  },
  "language_info": {
   "codemirror_mode": {
    "name": "ipython",
    "version": 3
   },
   "file_extension": ".py",
   "mimetype": "text/x-python",
   "name": "python",
   "nbconvert_exporter": "python",
   "pygments_lexer": "ipython3",
   "version": "3.9.13"
  }
 },
 "nbformat": 4,
 "nbformat_minor": 5
}
